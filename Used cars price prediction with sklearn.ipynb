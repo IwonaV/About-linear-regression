{
 "cells": [
  {
   "cell_type": "markdown",
   "metadata": {},
   "source": [
    "# Used cars price prediction\n"
   ]
  },
  {
   "cell_type": "code",
   "execution_count": 1,
   "metadata": {},
   "outputs": [],
   "source": [
    "import numpy as np\n",
    "import pandas as pd\n",
    "import statsmodels.api as sm\n",
    "import matplotlib.pyplot as plt\n",
    "from sklearn.linear_model import LinearRegression\n",
    "import seaborn as sns\n",
    "sns.set()\n",
    "\n",
    "np.set_printoptions(precision = 8, suppress = True)"
   ]
  },
  {
   "cell_type": "code",
   "execution_count": 2,
   "metadata": {},
   "outputs": [
    {
     "data": {
      "text/html": [
       "<div>\n",
       "<style scoped>\n",
       "    .dataframe tbody tr th:only-of-type {\n",
       "        vertical-align: middle;\n",
       "    }\n",
       "\n",
       "    .dataframe tbody tr th {\n",
       "        vertical-align: top;\n",
       "    }\n",
       "\n",
       "    .dataframe thead th {\n",
       "        text-align: right;\n",
       "    }\n",
       "</style>\n",
       "<table border=\"1\" class=\"dataframe\">\n",
       "  <thead>\n",
       "    <tr style=\"text-align: right;\">\n",
       "      <th></th>\n",
       "      <th>mileage</th>\n",
       "      <th>make</th>\n",
       "      <th>model</th>\n",
       "      <th>fuel</th>\n",
       "      <th>gear</th>\n",
       "      <th>offerType</th>\n",
       "      <th>price</th>\n",
       "      <th>hp</th>\n",
       "      <th>year</th>\n",
       "    </tr>\n",
       "  </thead>\n",
       "  <tbody>\n",
       "    <tr>\n",
       "      <th>0</th>\n",
       "      <td>235000</td>\n",
       "      <td>BMW</td>\n",
       "      <td>316</td>\n",
       "      <td>Diesel</td>\n",
       "      <td>Manual</td>\n",
       "      <td>Used</td>\n",
       "      <td>6800</td>\n",
       "      <td>116.0</td>\n",
       "      <td>2011</td>\n",
       "    </tr>\n",
       "    <tr>\n",
       "      <th>1</th>\n",
       "      <td>92800</td>\n",
       "      <td>Volkswagen</td>\n",
       "      <td>Golf</td>\n",
       "      <td>Gasoline</td>\n",
       "      <td>Manual</td>\n",
       "      <td>Used</td>\n",
       "      <td>6877</td>\n",
       "      <td>122.0</td>\n",
       "      <td>2011</td>\n",
       "    </tr>\n",
       "    <tr>\n",
       "      <th>2</th>\n",
       "      <td>149300</td>\n",
       "      <td>SEAT</td>\n",
       "      <td>Exeo</td>\n",
       "      <td>Gasoline</td>\n",
       "      <td>Manual</td>\n",
       "      <td>Used</td>\n",
       "      <td>6900</td>\n",
       "      <td>160.0</td>\n",
       "      <td>2011</td>\n",
       "    </tr>\n",
       "    <tr>\n",
       "      <th>3</th>\n",
       "      <td>96200</td>\n",
       "      <td>Renault</td>\n",
       "      <td>Megane</td>\n",
       "      <td>Gasoline</td>\n",
       "      <td>Manual</td>\n",
       "      <td>Used</td>\n",
       "      <td>6950</td>\n",
       "      <td>110.0</td>\n",
       "      <td>2011</td>\n",
       "    </tr>\n",
       "    <tr>\n",
       "      <th>4</th>\n",
       "      <td>156000</td>\n",
       "      <td>Peugeot</td>\n",
       "      <td>308</td>\n",
       "      <td>Gasoline</td>\n",
       "      <td>Manual</td>\n",
       "      <td>Used</td>\n",
       "      <td>6950</td>\n",
       "      <td>156.0</td>\n",
       "      <td>2011</td>\n",
       "    </tr>\n",
       "  </tbody>\n",
       "</table>\n",
       "</div>"
      ],
      "text/plain": [
       "   mileage        make   model      fuel    gear offerType  price     hp  year\n",
       "0   235000         BMW     316    Diesel  Manual      Used   6800  116.0  2011\n",
       "1    92800  Volkswagen    Golf  Gasoline  Manual      Used   6877  122.0  2011\n",
       "2   149300        SEAT    Exeo  Gasoline  Manual      Used   6900  160.0  2011\n",
       "3    96200     Renault  Megane  Gasoline  Manual      Used   6950  110.0  2011\n",
       "4   156000     Peugeot     308  Gasoline  Manual      Used   6950  156.0  2011"
      ]
     },
     "execution_count": 2,
     "metadata": {},
     "output_type": "execute_result"
    }
   ],
   "source": [
    "raw_data = pd.read_csv(r'C:\\Users\\Iwona\\Downloads\\Resources\\Downloaded csv files for portfolio\\cars_data\\autoscout24-germany-dataset.csv\\autoscout24-germany-dataset.csv')\n",
    "\n",
    "raw_data.head()"
   ]
  },
  {
   "cell_type": "code",
   "execution_count": 3,
   "metadata": {},
   "outputs": [
    {
     "data": {
      "text/html": [
       "<div>\n",
       "<style scoped>\n",
       "    .dataframe tbody tr th:only-of-type {\n",
       "        vertical-align: middle;\n",
       "    }\n",
       "\n",
       "    .dataframe tbody tr th {\n",
       "        vertical-align: top;\n",
       "    }\n",
       "\n",
       "    .dataframe thead th {\n",
       "        text-align: right;\n",
       "    }\n",
       "</style>\n",
       "<table border=\"1\" class=\"dataframe\">\n",
       "  <thead>\n",
       "    <tr style=\"text-align: right;\">\n",
       "      <th></th>\n",
       "      <th>mileage</th>\n",
       "      <th>make</th>\n",
       "      <th>model</th>\n",
       "      <th>fuel</th>\n",
       "      <th>gear</th>\n",
       "      <th>offerType</th>\n",
       "      <th>price</th>\n",
       "      <th>hp</th>\n",
       "      <th>year</th>\n",
       "    </tr>\n",
       "  </thead>\n",
       "  <tbody>\n",
       "    <tr>\n",
       "      <th>count</th>\n",
       "      <td>4.640500e+04</td>\n",
       "      <td>46405</td>\n",
       "      <td>46262</td>\n",
       "      <td>46405</td>\n",
       "      <td>46223</td>\n",
       "      <td>46405</td>\n",
       "      <td>4.640500e+04</td>\n",
       "      <td>46376.000000</td>\n",
       "      <td>46405.000000</td>\n",
       "    </tr>\n",
       "    <tr>\n",
       "      <th>unique</th>\n",
       "      <td>NaN</td>\n",
       "      <td>77</td>\n",
       "      <td>841</td>\n",
       "      <td>11</td>\n",
       "      <td>3</td>\n",
       "      <td>5</td>\n",
       "      <td>NaN</td>\n",
       "      <td>NaN</td>\n",
       "      <td>NaN</td>\n",
       "    </tr>\n",
       "    <tr>\n",
       "      <th>top</th>\n",
       "      <td>NaN</td>\n",
       "      <td>Volkswagen</td>\n",
       "      <td>Golf</td>\n",
       "      <td>Gasoline</td>\n",
       "      <td>Manual</td>\n",
       "      <td>Used</td>\n",
       "      <td>NaN</td>\n",
       "      <td>NaN</td>\n",
       "      <td>NaN</td>\n",
       "    </tr>\n",
       "    <tr>\n",
       "      <th>freq</th>\n",
       "      <td>NaN</td>\n",
       "      <td>6931</td>\n",
       "      <td>1492</td>\n",
       "      <td>28864</td>\n",
       "      <td>30380</td>\n",
       "      <td>40122</td>\n",
       "      <td>NaN</td>\n",
       "      <td>NaN</td>\n",
       "      <td>NaN</td>\n",
       "    </tr>\n",
       "    <tr>\n",
       "      <th>mean</th>\n",
       "      <td>7.117786e+04</td>\n",
       "      <td>NaN</td>\n",
       "      <td>NaN</td>\n",
       "      <td>NaN</td>\n",
       "      <td>NaN</td>\n",
       "      <td>NaN</td>\n",
       "      <td>1.657234e+04</td>\n",
       "      <td>132.990987</td>\n",
       "      <td>2016.012951</td>\n",
       "    </tr>\n",
       "    <tr>\n",
       "      <th>std</th>\n",
       "      <td>6.262531e+04</td>\n",
       "      <td>NaN</td>\n",
       "      <td>NaN</td>\n",
       "      <td>NaN</td>\n",
       "      <td>NaN</td>\n",
       "      <td>NaN</td>\n",
       "      <td>1.930470e+04</td>\n",
       "      <td>75.449284</td>\n",
       "      <td>3.155214</td>\n",
       "    </tr>\n",
       "    <tr>\n",
       "      <th>min</th>\n",
       "      <td>0.000000e+00</td>\n",
       "      <td>NaN</td>\n",
       "      <td>NaN</td>\n",
       "      <td>NaN</td>\n",
       "      <td>NaN</td>\n",
       "      <td>NaN</td>\n",
       "      <td>1.100000e+03</td>\n",
       "      <td>1.000000</td>\n",
       "      <td>2011.000000</td>\n",
       "    </tr>\n",
       "    <tr>\n",
       "      <th>25%</th>\n",
       "      <td>1.980000e+04</td>\n",
       "      <td>NaN</td>\n",
       "      <td>NaN</td>\n",
       "      <td>NaN</td>\n",
       "      <td>NaN</td>\n",
       "      <td>NaN</td>\n",
       "      <td>7.490000e+03</td>\n",
       "      <td>86.000000</td>\n",
       "      <td>2013.000000</td>\n",
       "    </tr>\n",
       "    <tr>\n",
       "      <th>50%</th>\n",
       "      <td>6.000000e+04</td>\n",
       "      <td>NaN</td>\n",
       "      <td>NaN</td>\n",
       "      <td>NaN</td>\n",
       "      <td>NaN</td>\n",
       "      <td>NaN</td>\n",
       "      <td>1.099900e+04</td>\n",
       "      <td>116.000000</td>\n",
       "      <td>2016.000000</td>\n",
       "    </tr>\n",
       "    <tr>\n",
       "      <th>75%</th>\n",
       "      <td>1.050000e+05</td>\n",
       "      <td>NaN</td>\n",
       "      <td>NaN</td>\n",
       "      <td>NaN</td>\n",
       "      <td>NaN</td>\n",
       "      <td>NaN</td>\n",
       "      <td>1.949000e+04</td>\n",
       "      <td>150.000000</td>\n",
       "      <td>2019.000000</td>\n",
       "    </tr>\n",
       "    <tr>\n",
       "      <th>max</th>\n",
       "      <td>1.111111e+06</td>\n",
       "      <td>NaN</td>\n",
       "      <td>NaN</td>\n",
       "      <td>NaN</td>\n",
       "      <td>NaN</td>\n",
       "      <td>NaN</td>\n",
       "      <td>1.199900e+06</td>\n",
       "      <td>850.000000</td>\n",
       "      <td>2021.000000</td>\n",
       "    </tr>\n",
       "  </tbody>\n",
       "</table>\n",
       "</div>"
      ],
      "text/plain": [
       "             mileage        make  model      fuel    gear offerType  \\\n",
       "count   4.640500e+04       46405  46262     46405   46223     46405   \n",
       "unique           NaN          77    841        11       3         5   \n",
       "top              NaN  Volkswagen   Golf  Gasoline  Manual      Used   \n",
       "freq             NaN        6931   1492     28864   30380     40122   \n",
       "mean    7.117786e+04         NaN    NaN       NaN     NaN       NaN   \n",
       "std     6.262531e+04         NaN    NaN       NaN     NaN       NaN   \n",
       "min     0.000000e+00         NaN    NaN       NaN     NaN       NaN   \n",
       "25%     1.980000e+04         NaN    NaN       NaN     NaN       NaN   \n",
       "50%     6.000000e+04         NaN    NaN       NaN     NaN       NaN   \n",
       "75%     1.050000e+05         NaN    NaN       NaN     NaN       NaN   \n",
       "max     1.111111e+06         NaN    NaN       NaN     NaN       NaN   \n",
       "\n",
       "               price            hp          year  \n",
       "count   4.640500e+04  46376.000000  46405.000000  \n",
       "unique           NaN           NaN           NaN  \n",
       "top              NaN           NaN           NaN  \n",
       "freq             NaN           NaN           NaN  \n",
       "mean    1.657234e+04    132.990987   2016.012951  \n",
       "std     1.930470e+04     75.449284      3.155214  \n",
       "min     1.100000e+03      1.000000   2011.000000  \n",
       "25%     7.490000e+03     86.000000   2013.000000  \n",
       "50%     1.099900e+04    116.000000   2016.000000  \n",
       "75%     1.949000e+04    150.000000   2019.000000  \n",
       "max     1.199900e+06    850.000000   2021.000000  "
      ]
     },
     "execution_count": 3,
     "metadata": {},
     "output_type": "execute_result"
    }
   ],
   "source": [
    "raw_data.describe(include = 'all')\n"
   ]
  },
  {
   "cell_type": "code",
   "execution_count": 4,
   "metadata": {},
   "outputs": [
    {
     "data": {
      "text/html": [
       "<div>\n",
       "<style scoped>\n",
       "    .dataframe tbody tr th:only-of-type {\n",
       "        vertical-align: middle;\n",
       "    }\n",
       "\n",
       "    .dataframe tbody tr th {\n",
       "        vertical-align: top;\n",
       "    }\n",
       "\n",
       "    .dataframe thead th {\n",
       "        text-align: right;\n",
       "    }\n",
       "</style>\n",
       "<table border=\"1\" class=\"dataframe\">\n",
       "  <thead>\n",
       "    <tr style=\"text-align: right;\">\n",
       "      <th></th>\n",
       "      <th>mileage</th>\n",
       "      <th>price</th>\n",
       "      <th>hp</th>\n",
       "      <th>year</th>\n",
       "    </tr>\n",
       "  </thead>\n",
       "  <tbody>\n",
       "    <tr>\n",
       "      <th>count</th>\n",
       "      <td>46405.00000</td>\n",
       "      <td>46405.00000</td>\n",
       "      <td>46376.00000</td>\n",
       "      <td>46405.00000</td>\n",
       "    </tr>\n",
       "    <tr>\n",
       "      <th>mean</th>\n",
       "      <td>71177.86411</td>\n",
       "      <td>16572.33723</td>\n",
       "      <td>132.99099</td>\n",
       "      <td>2016.01295</td>\n",
       "    </tr>\n",
       "    <tr>\n",
       "      <th>std</th>\n",
       "      <td>62625.30846</td>\n",
       "      <td>19304.69592</td>\n",
       "      <td>75.44928</td>\n",
       "      <td>3.15521</td>\n",
       "    </tr>\n",
       "    <tr>\n",
       "      <th>min</th>\n",
       "      <td>0.00000</td>\n",
       "      <td>1100.00000</td>\n",
       "      <td>1.00000</td>\n",
       "      <td>2011.00000</td>\n",
       "    </tr>\n",
       "    <tr>\n",
       "      <th>25%</th>\n",
       "      <td>19800.00000</td>\n",
       "      <td>7490.00000</td>\n",
       "      <td>86.00000</td>\n",
       "      <td>2013.00000</td>\n",
       "    </tr>\n",
       "    <tr>\n",
       "      <th>50%</th>\n",
       "      <td>60000.00000</td>\n",
       "      <td>10999.00000</td>\n",
       "      <td>116.00000</td>\n",
       "      <td>2016.00000</td>\n",
       "    </tr>\n",
       "    <tr>\n",
       "      <th>75%</th>\n",
       "      <td>105000.00000</td>\n",
       "      <td>19490.00000</td>\n",
       "      <td>150.00000</td>\n",
       "      <td>2019.00000</td>\n",
       "    </tr>\n",
       "    <tr>\n",
       "      <th>max</th>\n",
       "      <td>1111111.00000</td>\n",
       "      <td>1199900.00000</td>\n",
       "      <td>850.00000</td>\n",
       "      <td>2021.00000</td>\n",
       "    </tr>\n",
       "  </tbody>\n",
       "</table>\n",
       "</div>"
      ],
      "text/plain": [
       "             mileage          price           hp         year\n",
       "count    46405.00000    46405.00000  46376.00000  46405.00000\n",
       "mean     71177.86411    16572.33723    132.99099   2016.01295\n",
       "std      62625.30846    19304.69592     75.44928      3.15521\n",
       "min          0.00000     1100.00000      1.00000   2011.00000\n",
       "25%      19800.00000     7490.00000     86.00000   2013.00000\n",
       "50%      60000.00000    10999.00000    116.00000   2016.00000\n",
       "75%     105000.00000    19490.00000    150.00000   2019.00000\n",
       "max    1111111.00000  1199900.00000    850.00000   2021.00000"
      ]
     },
     "execution_count": 4,
     "metadata": {},
     "output_type": "execute_result"
    }
   ],
   "source": [
    "# Suppressing the scientific notation \n",
    "raw_data.describe().apply(lambda s: s.apply('{0:.5f}'.format)) "
   ]
  },
  {
   "cell_type": "code",
   "execution_count": 5,
   "metadata": {},
   "outputs": [],
   "source": [
    "# There are 841 unique values in model column, I'll simply drop it.\n",
    "data = raw_data.drop(['model'],axis=1)"
   ]
  },
  {
   "cell_type": "code",
   "execution_count": 6,
   "metadata": {},
   "outputs": [
    {
     "data": {
      "text/plain": [
       "mileage        0\n",
       "make           0\n",
       "fuel           0\n",
       "gear         182\n",
       "offerType      0\n",
       "price          0\n",
       "hp            29\n",
       "year           0\n",
       "dtype: int64"
      ]
     },
     "execution_count": 6,
     "metadata": {},
     "output_type": "execute_result"
    }
   ],
   "source": [
    "data.isnull().sum()"
   ]
  },
  {
   "cell_type": "code",
   "execution_count": 7,
   "metadata": {},
   "outputs": [],
   "source": [
    "# Dropping all missing values.\n",
    "data_no_mv = data.dropna(axis=0)"
   ]
  },
  {
   "cell_type": "code",
   "execution_count": 8,
   "metadata": {},
   "outputs": [
    {
     "data": {
      "text/plain": [
       "mileage      0\n",
       "make         0\n",
       "fuel         0\n",
       "gear         0\n",
       "offerType    0\n",
       "price        0\n",
       "hp           0\n",
       "year         0\n",
       "dtype: int64"
      ]
     },
     "execution_count": 8,
     "metadata": {},
     "output_type": "execute_result"
    }
   ],
   "source": [
    "data_no_mv.isnull().sum()"
   ]
  },
  {
   "cell_type": "code",
   "execution_count": 9,
   "metadata": {},
   "outputs": [
    {
     "data": {
      "text/plain": [
       "<seaborn.axisgrid.FacetGrid at 0x1b410dc0>"
      ]
     },
     "execution_count": 9,
     "metadata": {},
     "output_type": "execute_result"
    },
    {
     "data": {
      "image/png": "[encoded data removed]",
      "text/plain": [
       "<Figure size 360x360 with 1 Axes>"
      ]
     },
     "metadata": {},
     "output_type": "display_data"
    }
   ],
   "source": [
    "# Probability distribution function (PDF) show us how the variable is distributed which makes it very easy to spot anomalies\n",
    "# The PDF is often the basis on which we decide whether we want to transform a feature\n",
    "sns.displot(data['mileage'],kde = True)"
   ]
  },
  {
   "cell_type": "markdown",
   "metadata": {},
   "source": [
    "### Dealing with outliers"
   ]
  },
  {
   "cell_type": "code",
   "execution_count": 10,
   "metadata": {},
   "outputs": [],
   "source": [
    "# Obviously there are some outliers present \n",
    "# The easiest way is to remove 0.5%, or 1% of the problematic samples\n",
    "# This is a dataset about used cars, therefore owe can tell that $1199900 is an excessive price\n",
    "q = data_no_mv['mileage'].quantile(0.99)\n",
    "data_1 = data_no_mv[data_no_mv['mileage']<q]\n"
   ]
  },
  {
   "cell_type": "code",
   "execution_count": 11,
   "metadata": {},
   "outputs": [
    {
     "data": {
      "text/plain": [
       "<seaborn.axisgrid.FacetGrid at 0x1b443b50>"
      ]
     },
     "execution_count": 11,
     "metadata": {},
     "output_type": "execute_result"
    },
    {
     "data": {
      "image/png": "[encoded data removed]",
      "text/plain": [
       "<Figure size 360x360 with 1 Axes>"
      ]
     },
     "metadata": {},
     "output_type": "display_data"
    }
   ],
   "source": [
    "sns.displot(data_1['mileage'],kde=True)"
   ]
  },
  {
   "cell_type": "code",
   "execution_count": 12,
   "metadata": {},
   "outputs": [
    {
     "data": {
      "text/plain": [
       "<seaborn.axisgrid.FacetGrid at 0x1c9ecc10>"
      ]
     },
     "execution_count": 12,
     "metadata": {},
     "output_type": "execute_result"
    },
    {
     "data": {
      "image/png": "[encoded data removed]",
      "text/plain": [
       "<Figure size 360x360 with 1 Axes>"
      ]
     },
     "metadata": {},
     "output_type": "display_data"
    }
   ],
   "source": [
    "sns.displot(data_no_mv['price'],kde=True)"
   ]
  },
  {
   "cell_type": "code",
   "execution_count": 13,
   "metadata": {},
   "outputs": [],
   "source": [
    "q = data_1['price'].quantile(0.99)\n",
    "data_2 = data_1[data_1['price']<q]"
   ]
  },
  {
   "cell_type": "code",
   "execution_count": 14,
   "metadata": {},
   "outputs": [
    {
     "data": {
      "text/plain": [
       "<seaborn.axisgrid.FacetGrid at 0x216b7340>"
      ]
     },
     "execution_count": 14,
     "metadata": {},
     "output_type": "execute_result"
    },
    {
     "data": {
      "image/png": "[encoded data removed]",
      "text/plain": [
       "<Figure size 360x360 with 1 Axes>"
      ]
     },
     "metadata": {},
     "output_type": "display_data"
    }
   ],
   "source": [
    "sns.displot(data_2['price'], kde=True)"
   ]
  },
  {
   "cell_type": "code",
   "execution_count": 15,
   "metadata": {},
   "outputs": [
    {
     "data": {
      "text/plain": [
       "<seaborn.axisgrid.FacetGrid at 0x1b819250>"
      ]
     },
     "execution_count": 15,
     "metadata": {},
     "output_type": "execute_result"
    },
    {
     "data": {
      "image/png": "[encoded data removed]",
      "text/plain": [
       "<Figure size 360x360 with 1 Axes>"
      ]
     },
     "metadata": {},
     "output_type": "display_data"
    }
   ],
   "source": [
    "sns.displot(data_no_mv['hp'],kde=True)"
   ]
  },
  {
   "cell_type": "code",
   "execution_count": 16,
   "metadata": {},
   "outputs": [],
   "source": [
    "q = data_2['hp'].quantile(0.99)\n",
    "data_3 = data_2[data_2['hp']<q]"
   ]
  },
  {
   "cell_type": "code",
   "execution_count": 17,
   "metadata": {},
   "outputs": [
    {
     "data": {
      "text/plain": [
       "<seaborn.axisgrid.FacetGrid at 0x20531ca0>"
      ]
     },
     "execution_count": 17,
     "metadata": {},
     "output_type": "execute_result"
    },
    {
     "data": {
      "image/png": "[encoded data removed]",
      "text/plain": [
       "<Figure size 360x360 with 1 Axes>"
      ]
     },
     "metadata": {},
     "output_type": "display_data"
    }
   ],
   "source": [
    "sns.displot(data_3['hp'], kde=True)"
   ]
  },
  {
   "cell_type": "code",
   "execution_count": 18,
   "metadata": {},
   "outputs": [],
   "source": [
    "data_cleaned = data_3.reset_index(drop=True)"
   ]
  },
  {
   "cell_type": "code",
   "execution_count": 19,
   "metadata": {},
   "outputs": [
    {
     "data": {
      "text/html": [
       "<div>\n",
       "<style scoped>\n",
       "    .dataframe tbody tr th:only-of-type {\n",
       "        vertical-align: middle;\n",
       "    }\n",
       "\n",
       "    .dataframe tbody tr th {\n",
       "        vertical-align: top;\n",
       "    }\n",
       "\n",
       "    .dataframe thead th {\n",
       "        text-align: right;\n",
       "    }\n",
       "</style>\n",
       "<table border=\"1\" class=\"dataframe\">\n",
       "  <thead>\n",
       "    <tr style=\"text-align: right;\">\n",
       "      <th></th>\n",
       "      <th>mileage</th>\n",
       "      <th>make</th>\n",
       "      <th>fuel</th>\n",
       "      <th>gear</th>\n",
       "      <th>offerType</th>\n",
       "      <th>price</th>\n",
       "      <th>hp</th>\n",
       "      <th>year</th>\n",
       "    </tr>\n",
       "  </thead>\n",
       "  <tbody>\n",
       "    <tr>\n",
       "      <th>count</th>\n",
       "      <td>44820.000000</td>\n",
       "      <td>44820</td>\n",
       "      <td>44820</td>\n",
       "      <td>44820</td>\n",
       "      <td>44820</td>\n",
       "      <td>44820.000000</td>\n",
       "      <td>44820.000000</td>\n",
       "      <td>44820.000000</td>\n",
       "    </tr>\n",
       "    <tr>\n",
       "      <th>unique</th>\n",
       "      <td>NaN</td>\n",
       "      <td>62</td>\n",
       "      <td>11</td>\n",
       "      <td>3</td>\n",
       "      <td>5</td>\n",
       "      <td>NaN</td>\n",
       "      <td>NaN</td>\n",
       "      <td>NaN</td>\n",
       "    </tr>\n",
       "    <tr>\n",
       "      <th>top</th>\n",
       "      <td>NaN</td>\n",
       "      <td>Volkswagen</td>\n",
       "      <td>Gasoline</td>\n",
       "      <td>Manual</td>\n",
       "      <td>Used</td>\n",
       "      <td>NaN</td>\n",
       "      <td>NaN</td>\n",
       "      <td>NaN</td>\n",
       "    </tr>\n",
       "    <tr>\n",
       "      <th>freq</th>\n",
       "      <td>NaN</td>\n",
       "      <td>6798</td>\n",
       "      <td>28112</td>\n",
       "      <td>30088</td>\n",
       "      <td>38792</td>\n",
       "      <td>NaN</td>\n",
       "      <td>NaN</td>\n",
       "      <td>NaN</td>\n",
       "    </tr>\n",
       "    <tr>\n",
       "      <th>mean</th>\n",
       "      <td>69358.840763</td>\n",
       "      <td>NaN</td>\n",
       "      <td>NaN</td>\n",
       "      <td>NaN</td>\n",
       "      <td>NaN</td>\n",
       "      <td>15013.170660</td>\n",
       "      <td>125.959304</td>\n",
       "      <td>2016.002253</td>\n",
       "    </tr>\n",
       "    <tr>\n",
       "      <th>std</th>\n",
       "      <td>57106.716641</td>\n",
       "      <td>NaN</td>\n",
       "      <td>NaN</td>\n",
       "      <td>NaN</td>\n",
       "      <td>NaN</td>\n",
       "      <td>11284.372274</td>\n",
       "      <td>56.142580</td>\n",
       "      <td>3.146493</td>\n",
       "    </tr>\n",
       "    <tr>\n",
       "      <th>min</th>\n",
       "      <td>0.000000</td>\n",
       "      <td>NaN</td>\n",
       "      <td>NaN</td>\n",
       "      <td>NaN</td>\n",
       "      <td>NaN</td>\n",
       "      <td>1100.000000</td>\n",
       "      <td>1.000000</td>\n",
       "      <td>2011.000000</td>\n",
       "    </tr>\n",
       "    <tr>\n",
       "      <th>25%</th>\n",
       "      <td>20000.000000</td>\n",
       "      <td>NaN</td>\n",
       "      <td>NaN</td>\n",
       "      <td>NaN</td>\n",
       "      <td>NaN</td>\n",
       "      <td>7490.000000</td>\n",
       "      <td>86.000000</td>\n",
       "      <td>2013.000000</td>\n",
       "    </tr>\n",
       "    <tr>\n",
       "      <th>50%</th>\n",
       "      <td>60000.000000</td>\n",
       "      <td>NaN</td>\n",
       "      <td>NaN</td>\n",
       "      <td>NaN</td>\n",
       "      <td>NaN</td>\n",
       "      <td>10990.000000</td>\n",
       "      <td>116.000000</td>\n",
       "      <td>2016.000000</td>\n",
       "    </tr>\n",
       "    <tr>\n",
       "      <th>75%</th>\n",
       "      <td>104000.000000</td>\n",
       "      <td>NaN</td>\n",
       "      <td>NaN</td>\n",
       "      <td>NaN</td>\n",
       "      <td>NaN</td>\n",
       "      <td>18881.250000</td>\n",
       "      <td>150.000000</td>\n",
       "      <td>2019.000000</td>\n",
       "    </tr>\n",
       "    <tr>\n",
       "      <th>max</th>\n",
       "      <td>259070.000000</td>\n",
       "      <td>NaN</td>\n",
       "      <td>NaN</td>\n",
       "      <td>NaN</td>\n",
       "      <td>NaN</td>\n",
       "      <td>83870.000000</td>\n",
       "      <td>381.000000</td>\n",
       "      <td>2021.000000</td>\n",
       "    </tr>\n",
       "  </tbody>\n",
       "</table>\n",
       "</div>"
      ],
      "text/plain": [
       "              mileage        make      fuel    gear offerType         price  \\\n",
       "count    44820.000000       44820     44820   44820     44820  44820.000000   \n",
       "unique            NaN          62        11       3         5           NaN   \n",
       "top               NaN  Volkswagen  Gasoline  Manual      Used           NaN   \n",
       "freq              NaN        6798     28112   30088     38792           NaN   \n",
       "mean     69358.840763         NaN       NaN     NaN       NaN  15013.170660   \n",
       "std      57106.716641         NaN       NaN     NaN       NaN  11284.372274   \n",
       "min          0.000000         NaN       NaN     NaN       NaN   1100.000000   \n",
       "25%      20000.000000         NaN       NaN     NaN       NaN   7490.000000   \n",
       "50%      60000.000000         NaN       NaN     NaN       NaN  10990.000000   \n",
       "75%     104000.000000         NaN       NaN     NaN       NaN  18881.250000   \n",
       "max     259070.000000         NaN       NaN     NaN       NaN  83870.000000   \n",
       "\n",
       "                  hp          year  \n",
       "count   44820.000000  44820.000000  \n",
       "unique           NaN           NaN  \n",
       "top              NaN           NaN  \n",
       "freq             NaN           NaN  \n",
       "mean      125.959304   2016.002253  \n",
       "std        56.142580      3.146493  \n",
       "min         1.000000   2011.000000  \n",
       "25%        86.000000   2013.000000  \n",
       "50%       116.000000   2016.000000  \n",
       "75%       150.000000   2019.000000  \n",
       "max       381.000000   2021.000000  "
      ]
     },
     "execution_count": 19,
     "metadata": {},
     "output_type": "execute_result"
    }
   ],
   "source": [
    "data_cleaned.describe(include='all')"
   ]
  },
  {
   "cell_type": "markdown",
   "metadata": {},
   "source": [
    "### Checking the OLS assumptions"
   ]
  },
  {
   "cell_type": "code",
   "execution_count": 20,
   "metadata": {},
   "outputs": [
    {
     "data": {
      "text/plain": [
       "Text(0.5, 1.0, 'Price and Mileage')"
      ]
     },
     "execution_count": 20,
     "metadata": {},
     "output_type": "execute_result"
    },
    {
     "data": {
      "image/png": "[encoded data removed]",
      "text/plain": [
       "<Figure size 1080x216 with 3 Axes>"
      ]
     },
     "metadata": {},
     "output_type": "display_data"
    }
   ],
   "source": [
    "# Plotting variables to compare them.\n",
    "f, (ax1, ax2, ax3) = plt.subplots(1, 3, sharey=True, figsize =(15,3)) # sharey -> share 'price' as y\n",
    "ax1.scatter(data_cleaned['year'],data_cleaned['price'])\n",
    "ax1.set_title('Price and Year')\n",
    "ax2.scatter(data_cleaned['hp'],data_cleaned['price'])\n",
    "ax2.set_title('Price and Horsepower')\n",
    "ax3.scatter(data_cleaned['mileage'],data_cleaned['price'])\n",
    "ax3.set_title('Price and Mileage')"
   ]
  },
  {
   "cell_type": "code",
   "execution_count": 21,
   "metadata": {},
   "outputs": [
    {
     "data": {
      "text/plain": [
       "<seaborn.axisgrid.FacetGrid at 0x232e3430>"
      ]
     },
     "execution_count": 21,
     "metadata": {},
     "output_type": "execute_result"
    },
    {
     "data": {
      "image/png": "[encoded data removed]",
      "text/plain": [
       "<Figure size 360x360 with 1 Axes>"
      ]
     },
     "metadata": {},
     "output_type": "display_data"
    }
   ],
   "source": [
    "# It is viasable that 'Price' is exponentially distributed so a good transformation in that case is a log transformation\n",
    "sns.displot(data_cleaned['price'], kde=True)"
   ]
  },
  {
   "cell_type": "markdown",
   "metadata": {},
   "source": [
    "### Relaxing the assumptions"
   ]
  },
  {
   "cell_type": "code",
   "execution_count": 22,
   "metadata": {},
   "outputs": [
    {
     "data": {
      "text/html": [
       "<div>\n",
       "<style scoped>\n",
       "    .dataframe tbody tr th:only-of-type {\n",
       "        vertical-align: middle;\n",
       "    }\n",
       "\n",
       "    .dataframe tbody tr th {\n",
       "        vertical-align: top;\n",
       "    }\n",
       "\n",
       "    .dataframe thead th {\n",
       "        text-align: right;\n",
       "    }\n",
       "</style>\n",
       "<table border=\"1\" class=\"dataframe\">\n",
       "  <thead>\n",
       "    <tr style=\"text-align: right;\">\n",
       "      <th></th>\n",
       "      <th>mileage</th>\n",
       "      <th>make</th>\n",
       "      <th>fuel</th>\n",
       "      <th>gear</th>\n",
       "      <th>offerType</th>\n",
       "      <th>price</th>\n",
       "      <th>hp</th>\n",
       "      <th>year</th>\n",
       "      <th>log_price</th>\n",
       "    </tr>\n",
       "  </thead>\n",
       "  <tbody>\n",
       "    <tr>\n",
       "      <th>0</th>\n",
       "      <td>235000</td>\n",
       "      <td>BMW</td>\n",
       "      <td>Diesel</td>\n",
       "      <td>Manual</td>\n",
       "      <td>Used</td>\n",
       "      <td>6800</td>\n",
       "      <td>116.0</td>\n",
       "      <td>2011</td>\n",
       "      <td>8.824678</td>\n",
       "    </tr>\n",
       "    <tr>\n",
       "      <th>1</th>\n",
       "      <td>92800</td>\n",
       "      <td>Volkswagen</td>\n",
       "      <td>Gasoline</td>\n",
       "      <td>Manual</td>\n",
       "      <td>Used</td>\n",
       "      <td>6877</td>\n",
       "      <td>122.0</td>\n",
       "      <td>2011</td>\n",
       "      <td>8.835938</td>\n",
       "    </tr>\n",
       "    <tr>\n",
       "      <th>2</th>\n",
       "      <td>149300</td>\n",
       "      <td>SEAT</td>\n",
       "      <td>Gasoline</td>\n",
       "      <td>Manual</td>\n",
       "      <td>Used</td>\n",
       "      <td>6900</td>\n",
       "      <td>160.0</td>\n",
       "      <td>2011</td>\n",
       "      <td>8.839277</td>\n",
       "    </tr>\n",
       "    <tr>\n",
       "      <th>3</th>\n",
       "      <td>96200</td>\n",
       "      <td>Renault</td>\n",
       "      <td>Gasoline</td>\n",
       "      <td>Manual</td>\n",
       "      <td>Used</td>\n",
       "      <td>6950</td>\n",
       "      <td>110.0</td>\n",
       "      <td>2011</td>\n",
       "      <td>8.846497</td>\n",
       "    </tr>\n",
       "    <tr>\n",
       "      <th>4</th>\n",
       "      <td>156000</td>\n",
       "      <td>Peugeot</td>\n",
       "      <td>Gasoline</td>\n",
       "      <td>Manual</td>\n",
       "      <td>Used</td>\n",
       "      <td>6950</td>\n",
       "      <td>156.0</td>\n",
       "      <td>2011</td>\n",
       "      <td>8.846497</td>\n",
       "    </tr>\n",
       "  </tbody>\n",
       "</table>\n",
       "</div>"
      ],
      "text/plain": [
       "   mileage        make      fuel    gear offerType  price     hp  year  \\\n",
       "0   235000         BMW    Diesel  Manual      Used   6800  116.0  2011   \n",
       "1    92800  Volkswagen  Gasoline  Manual      Used   6877  122.0  2011   \n",
       "2   149300        SEAT  Gasoline  Manual      Used   6900  160.0  2011   \n",
       "3    96200     Renault  Gasoline  Manual      Used   6950  110.0  2011   \n",
       "4   156000     Peugeot  Gasoline  Manual      Used   6950  156.0  2011   \n",
       "\n",
       "   log_price  \n",
       "0   8.824678  \n",
       "1   8.835938  \n",
       "2   8.839277  \n",
       "3   8.846497  \n",
       "4   8.846497  "
      ]
     },
     "execution_count": 22,
     "metadata": {},
     "output_type": "execute_result"
    }
   ],
   "source": [
    "# Transforming 'price' with a log transformation.\n",
    "log_price = np.log(data_cleaned['price'])\n",
    "data_cleaned['log_price'] = log_price\n",
    "data_cleaned.head()"
   ]
  },
  {
   "cell_type": "code",
   "execution_count": 23,
   "metadata": {},
   "outputs": [
    {
     "data": {
      "image/png": "[encoded data removed]",
      "text/plain": [
       "<Figure size 1080x216 with 3 Axes>"
      ]
     },
     "metadata": {},
     "output_type": "display_data"
    }
   ],
   "source": [
    "# Checking the three scatters once again.\n",
    "f, (ax1, ax2, ax3) = plt.subplots(1, 3, sharey=True, figsize =(15,3))\n",
    "ax1.scatter(data_cleaned['year'],data_cleaned['log_price'])\n",
    "ax1.set_title('Log Price and Year')\n",
    "ax2.scatter(data_cleaned['hp'],data_cleaned['log_price'])\n",
    "ax2.set_title('Log Price and hp')\n",
    "ax3.scatter(data_cleaned['mileage'],data_cleaned['log_price'])\n",
    "ax3.set_title('Log Price and Mileage')\n",
    "\n",
    "\n",
    "plt.show()"
   ]
  },
  {
   "cell_type": "code",
   "execution_count": 24,
   "metadata": {},
   "outputs": [],
   "source": [
    "# Since I will be using the log price variable, I can drop the old 'price'.\n",
    "data_cleaned = data_cleaned.drop(['price'],axis=1)"
   ]
  },
  {
   "cell_type": "markdown",
   "metadata": {},
   "source": [
    "### Checking for multicollinearity"
   ]
  },
  {
   "cell_type": "code",
   "execution_count": 25,
   "metadata": {},
   "outputs": [
    {
     "data": {
      "text/plain": [
       "array(['mileage', 'make', 'fuel', 'gear', 'offerType', 'hp', 'year',\n",
       "       'log_price'], dtype=object)"
      ]
     },
     "execution_count": 25,
     "metadata": {},
     "output_type": "execute_result"
    }
   ],
   "source": [
    "data_cleaned.columns.values"
   ]
  },
  {
   "cell_type": "code",
   "execution_count": 26,
   "metadata": {},
   "outputs": [],
   "source": [
    "# It is obvious that 'year' and 'mileage' go together so we can expect some multicollinearity\n",
    "from statsmodels.stats.outliers_influence import variance_inflation_factor\n",
    "variables = data_cleaned[['mileage','year','hp']]\n",
    "vif = pd.DataFrame()\n",
    "vif[\"VIF\"] = [variance_inflation_factor(variables.values, i) for i in range(variables.shape[1])]\n",
    "vif[\"Features\"] = variables.columns"
   ]
  },
  {
   "cell_type": "code",
   "execution_count": 27,
   "metadata": {},
   "outputs": [
    {
     "data": {
      "text/html": [
       "<div>\n",
       "<style scoped>\n",
       "    .dataframe tbody tr th:only-of-type {\n",
       "        vertical-align: middle;\n",
       "    }\n",
       "\n",
       "    .dataframe tbody tr th {\n",
       "        vertical-align: top;\n",
       "    }\n",
       "\n",
       "    .dataframe thead th {\n",
       "        text-align: right;\n",
       "    }\n",
       "</style>\n",
       "<table border=\"1\" class=\"dataframe\">\n",
       "  <thead>\n",
       "    <tr style=\"text-align: right;\">\n",
       "      <th></th>\n",
       "      <th>VIF</th>\n",
       "      <th>Features</th>\n",
       "    </tr>\n",
       "  </thead>\n",
       "  <tbody>\n",
       "    <tr>\n",
       "      <th>0</th>\n",
       "      <td>2.473497</td>\n",
       "      <td>mileage</td>\n",
       "    </tr>\n",
       "    <tr>\n",
       "      <th>1</th>\n",
       "      <td>7.277390</td>\n",
       "      <td>year</td>\n",
       "    </tr>\n",
       "    <tr>\n",
       "      <th>2</th>\n",
       "      <td>6.052263</td>\n",
       "      <td>hp</td>\n",
       "    </tr>\n",
       "  </tbody>\n",
       "</table>\n",
       "</div>"
      ],
      "text/plain": [
       "        VIF Features\n",
       "0  2.473497  mileage\n",
       "1  7.277390     year\n",
       "2  6.052263       hp"
      ]
     },
     "execution_count": 27,
     "metadata": {},
     "output_type": "execute_result"
    }
   ],
   "source": [
    "vif"
   ]
  },
  {
   "cell_type": "code",
   "execution_count": 28,
   "metadata": {},
   "outputs": [],
   "source": [
    "# Generally VIF is considered ok  with values between 1-5\n",
    "# Since 'year' has the highest VIF, I will remove it from the model\n",
    "# This will lower the VIF of other variables down\n",
    "data_no_multicollinearity = data_cleaned.drop(['year'],axis=1)"
   ]
  },
  {
   "cell_type": "markdown",
   "metadata": {},
   "source": [
    "### Dealing with categorical variables. "
   ]
  },
  {
   "cell_type": "code",
   "execution_count": 29,
   "metadata": {},
   "outputs": [
    {
     "data": {
      "text/html": [
       "<div>\n",
       "<style scoped>\n",
       "    .dataframe tbody tr th:only-of-type {\n",
       "        vertical-align: middle;\n",
       "    }\n",
       "\n",
       "    .dataframe tbody tr th {\n",
       "        vertical-align: top;\n",
       "    }\n",
       "\n",
       "    .dataframe thead th {\n",
       "        text-align: right;\n",
       "    }\n",
       "</style>\n",
       "<table border=\"1\" class=\"dataframe\">\n",
       "  <thead>\n",
       "    <tr style=\"text-align: right;\">\n",
       "      <th></th>\n",
       "      <th>mileage</th>\n",
       "      <th>hp</th>\n",
       "      <th>log_price</th>\n",
       "      <th>make_Abarth</th>\n",
       "      <th>make_Aixam</th>\n",
       "      <th>make_Alfa</th>\n",
       "      <th>make_Alpina</th>\n",
       "      <th>make_Alpine</th>\n",
       "      <th>make_Audi</th>\n",
       "      <th>make_BMW</th>\n",
       "      <th>...</th>\n",
       "      <th>fuel_Gasoline</th>\n",
       "      <th>fuel_Hydrogen</th>\n",
       "      <th>fuel_LPG</th>\n",
       "      <th>fuel_Others</th>\n",
       "      <th>gear_Manual</th>\n",
       "      <th>gear_Semi-automatic</th>\n",
       "      <th>offerType_Employee's car</th>\n",
       "      <th>offerType_New</th>\n",
       "      <th>offerType_Pre-registered</th>\n",
       "      <th>offerType_Used</th>\n",
       "    </tr>\n",
       "  </thead>\n",
       "  <tbody>\n",
       "    <tr>\n",
       "      <th>0</th>\n",
       "      <td>235000</td>\n",
       "      <td>116.0</td>\n",
       "      <td>8.824678</td>\n",
       "      <td>0</td>\n",
       "      <td>0</td>\n",
       "      <td>0</td>\n",
       "      <td>0</td>\n",
       "      <td>0</td>\n",
       "      <td>0</td>\n",
       "      <td>1</td>\n",
       "      <td>...</td>\n",
       "      <td>0</td>\n",
       "      <td>0</td>\n",
       "      <td>0</td>\n",
       "      <td>0</td>\n",
       "      <td>1</td>\n",
       "      <td>0</td>\n",
       "      <td>0</td>\n",
       "      <td>0</td>\n",
       "      <td>0</td>\n",
       "      <td>1</td>\n",
       "    </tr>\n",
       "    <tr>\n",
       "      <th>1</th>\n",
       "      <td>92800</td>\n",
       "      <td>122.0</td>\n",
       "      <td>8.835938</td>\n",
       "      <td>0</td>\n",
       "      <td>0</td>\n",
       "      <td>0</td>\n",
       "      <td>0</td>\n",
       "      <td>0</td>\n",
       "      <td>0</td>\n",
       "      <td>0</td>\n",
       "      <td>...</td>\n",
       "      <td>1</td>\n",
       "      <td>0</td>\n",
       "      <td>0</td>\n",
       "      <td>0</td>\n",
       "      <td>1</td>\n",
       "      <td>0</td>\n",
       "      <td>0</td>\n",
       "      <td>0</td>\n",
       "      <td>0</td>\n",
       "      <td>1</td>\n",
       "    </tr>\n",
       "    <tr>\n",
       "      <th>2</th>\n",
       "      <td>149300</td>\n",
       "      <td>160.0</td>\n",
       "      <td>8.839277</td>\n",
       "      <td>0</td>\n",
       "      <td>0</td>\n",
       "      <td>0</td>\n",
       "      <td>0</td>\n",
       "      <td>0</td>\n",
       "      <td>0</td>\n",
       "      <td>0</td>\n",
       "      <td>...</td>\n",
       "      <td>1</td>\n",
       "      <td>0</td>\n",
       "      <td>0</td>\n",
       "      <td>0</td>\n",
       "      <td>1</td>\n",
       "      <td>0</td>\n",
       "      <td>0</td>\n",
       "      <td>0</td>\n",
       "      <td>0</td>\n",
       "      <td>1</td>\n",
       "    </tr>\n",
       "    <tr>\n",
       "      <th>3</th>\n",
       "      <td>96200</td>\n",
       "      <td>110.0</td>\n",
       "      <td>8.846497</td>\n",
       "      <td>0</td>\n",
       "      <td>0</td>\n",
       "      <td>0</td>\n",
       "      <td>0</td>\n",
       "      <td>0</td>\n",
       "      <td>0</td>\n",
       "      <td>0</td>\n",
       "      <td>...</td>\n",
       "      <td>1</td>\n",
       "      <td>0</td>\n",
       "      <td>0</td>\n",
       "      <td>0</td>\n",
       "      <td>1</td>\n",
       "      <td>0</td>\n",
       "      <td>0</td>\n",
       "      <td>0</td>\n",
       "      <td>0</td>\n",
       "      <td>1</td>\n",
       "    </tr>\n",
       "    <tr>\n",
       "      <th>4</th>\n",
       "      <td>156000</td>\n",
       "      <td>156.0</td>\n",
       "      <td>8.846497</td>\n",
       "      <td>0</td>\n",
       "      <td>0</td>\n",
       "      <td>0</td>\n",
       "      <td>0</td>\n",
       "      <td>0</td>\n",
       "      <td>0</td>\n",
       "      <td>0</td>\n",
       "      <td>...</td>\n",
       "      <td>1</td>\n",
       "      <td>0</td>\n",
       "      <td>0</td>\n",
       "      <td>0</td>\n",
       "      <td>1</td>\n",
       "      <td>0</td>\n",
       "      <td>0</td>\n",
       "      <td>0</td>\n",
       "      <td>0</td>\n",
       "      <td>1</td>\n",
       "    </tr>\n",
       "  </tbody>\n",
       "</table>\n",
       "<p>5 rows × 80 columns</p>\n",
       "</div>"
      ],
      "text/plain": [
       "   mileage     hp  log_price  make_Abarth  make_Aixam  make_Alfa  make_Alpina  \\\n",
       "0   235000  116.0   8.824678            0           0          0            0   \n",
       "1    92800  122.0   8.835938            0           0          0            0   \n",
       "2   149300  160.0   8.839277            0           0          0            0   \n",
       "3    96200  110.0   8.846497            0           0          0            0   \n",
       "4   156000  156.0   8.846497            0           0          0            0   \n",
       "\n",
       "   make_Alpine  make_Audi  make_BMW  ...  fuel_Gasoline  fuel_Hydrogen  \\\n",
       "0            0          0         1  ...              0              0   \n",
       "1            0          0         0  ...              1              0   \n",
       "2            0          0         0  ...              1              0   \n",
       "3            0          0         0  ...              1              0   \n",
       "4            0          0         0  ...              1              0   \n",
       "\n",
       "   fuel_LPG  fuel_Others  gear_Manual  gear_Semi-automatic  \\\n",
       "0         0            0            1                    0   \n",
       "1         0            0            1                    0   \n",
       "2         0            0            1                    0   \n",
       "3         0            0            1                    0   \n",
       "4         0            0            1                    0   \n",
       "\n",
       "   offerType_Employee's car  offerType_New  offerType_Pre-registered  \\\n",
       "0                         0              0                         0   \n",
       "1                         0              0                         0   \n",
       "2                         0              0                         0   \n",
       "3                         0              0                         0   \n",
       "4                         0              0                         0   \n",
       "\n",
       "   offerType_Used  \n",
       "0               1  \n",
       "1               1  \n",
       "2               1  \n",
       "3               1  \n",
       "4               1  \n",
       "\n",
       "[5 rows x 80 columns]"
      ]
     },
     "execution_count": 29,
     "metadata": {},
     "output_type": "execute_result"
    }
   ],
   "source": [
    "data_with_dummies = pd.get_dummies(data_no_multicollinearity, drop_first=True)\n",
    "data_with_dummies.head()"
   ]
  },
  {
   "cell_type": "code",
   "execution_count": 30,
   "metadata": {},
   "outputs": [
    {
     "data": {
      "text/plain": [
       "array(['mileage', 'hp', 'log_price', 'make_Abarth', 'make_Aixam',\n",
       "       'make_Alfa', 'make_Alpina', 'make_Alpine', 'make_Audi', 'make_BMW',\n",
       "       'make_Baic', 'make_Brilliance', 'make_Cadillac',\n",
       "       'make_Caravans-Wohnm', 'make_Chevrolet', 'make_Chrysler',\n",
       "       'make_Citroen', 'make_Cupra', 'make_DFSK', 'make_DS', 'make_Dacia',\n",
       "       'make_Daihatsu', 'make_Dodge', 'make_Estrima', 'make_Fiat',\n",
       "       'make_Ford', 'make_Honda', 'make_Hyundai', 'make_Infiniti',\n",
       "       'make_Isuzu', 'make_Iveco', 'make_Jaguar', 'make_Jeep', 'make_Kia',\n",
       "       'make_Lada', 'make_Lancia', 'make_Land', 'make_Lexus',\n",
       "       'make_Ligier', 'make_MINI', 'make_Maserati', 'make_Mazda',\n",
       "       'make_Mercedes-Benz', 'make_Microcar', 'make_Mitsubishi',\n",
       "       'make_Morgan', 'make_Nissan', 'make_Opel', 'make_Others',\n",
       "       'make_Peugeot', 'make_Piaggio', 'make_Porsche', 'make_Renault',\n",
       "       'make_SEAT', 'make_Skoda', 'make_SsangYong', 'make_Subaru',\n",
       "       'make_Suzuki', 'make_Tesla', 'make_Toyota', 'make_Volkswagen',\n",
       "       'make_Volvo', 'make_Zhidou', 'make_smart', 'fuel_CNG',\n",
       "       'fuel_Diesel', 'fuel_Electric', 'fuel_Electric/Diesel',\n",
       "       'fuel_Electric/Gasoline', 'fuel_Ethanol', 'fuel_Gasoline',\n",
       "       'fuel_Hydrogen', 'fuel_LPG', 'fuel_Others', 'gear_Manual',\n",
       "       'gear_Semi-automatic', \"offerType_Employee's car\", 'offerType_New',\n",
       "       'offerType_Pre-registered', 'offerType_Used'], dtype=object)"
      ]
     },
     "execution_count": 30,
     "metadata": {},
     "output_type": "execute_result"
    }
   ],
   "source": [
    "data_with_dummies.columns.values"
   ]
  },
  {
   "cell_type": "code",
   "execution_count": 31,
   "metadata": {},
   "outputs": [],
   "source": [
    "# Rearranging a bit.\n",
    "cols = ['log_price','mileage', 'hp', 'make_Abarth', 'make_Aixam',\n",
    "       'make_Alfa', 'make_Alpina', 'make_Alpine', 'make_Audi', 'make_BMW',\n",
    "       'make_Baic', 'make_Brilliance', 'make_Cadillac',\n",
    "       'make_Caravans-Wohnm', 'make_Chevrolet', 'make_Chrysler',\n",
    "       'make_Citroen', 'make_Cupra', 'make_DFSK', 'make_DS', 'make_Dacia',\n",
    "       'make_Daihatsu', 'make_Dodge', 'make_Estrima', 'make_Fiat',\n",
    "       'make_Ford', 'make_Honda', 'make_Hyundai', 'make_Infiniti',\n",
    "       'make_Isuzu', 'make_Iveco', 'make_Jaguar', 'make_Jeep', 'make_Kia',\n",
    "       'make_Lada', 'make_Lancia', 'make_Land', 'make_Lexus',\n",
    "       'make_Ligier', 'make_MINI', 'make_Maserati', 'make_Mazda',\n",
    "       'make_Mercedes-Benz', 'make_Microcar', 'make_Mitsubishi',\n",
    "       'make_Morgan', 'make_Nissan', 'make_Opel', 'make_Others',\n",
    "       'make_Peugeot', 'make_Piaggio', 'make_Porsche', 'make_Renault',\n",
    "       'make_SEAT', 'make_Skoda', 'make_SsangYong', 'make_Subaru',\n",
    "       'make_Suzuki', 'make_Tesla', 'make_Toyota', 'make_Volkswagen',\n",
    "       'make_Volvo', 'make_Zhidou', 'make_smart', 'fuel_CNG',\n",
    "       'fuel_Diesel', 'fuel_Electric', 'fuel_Electric/Diesel',\n",
    "       'fuel_Electric/Gasoline', 'fuel_Ethanol', 'fuel_Gasoline',\n",
    "       'fuel_Hydrogen', 'fuel_LPG', 'fuel_Others', 'gear_Manual',\n",
    "       'gear_Semi-automatic', \"offerType_Employee's car\", 'offerType_New',\n",
    "       'offerType_Pre-registered', 'offerType_Used']"
   ]
  },
  {
   "cell_type": "code",
   "execution_count": 32,
   "metadata": {},
   "outputs": [
    {
     "data": {
      "text/plain": [
       "array(['mileage', 'hp', 'log_price', 'make_Abarth', 'make_Aixam',\n",
       "       'make_Alfa', 'make_Alpina', 'make_Alpine', 'make_Audi', 'make_BMW',\n",
       "       'make_Baic', 'make_Brilliance', 'make_Cadillac',\n",
       "       'make_Caravans-Wohnm', 'make_Chevrolet', 'make_Chrysler',\n",
       "       'make_Citroen', 'make_Cupra', 'make_DFSK', 'make_DS', 'make_Dacia',\n",
       "       'make_Daihatsu', 'make_Dodge', 'make_Estrima', 'make_Fiat',\n",
       "       'make_Ford', 'make_Honda', 'make_Hyundai', 'make_Infiniti',\n",
       "       'make_Isuzu', 'make_Iveco', 'make_Jaguar', 'make_Jeep', 'make_Kia',\n",
       "       'make_Lada', 'make_Lancia', 'make_Land', 'make_Lexus',\n",
       "       'make_Ligier', 'make_MINI', 'make_Maserati', 'make_Mazda',\n",
       "       'make_Mercedes-Benz', 'make_Microcar', 'make_Mitsubishi',\n",
       "       'make_Morgan', 'make_Nissan', 'make_Opel', 'make_Others',\n",
       "       'make_Peugeot', 'make_Piaggio', 'make_Porsche', 'make_Renault',\n",
       "       'make_SEAT', 'make_Skoda', 'make_SsangYong', 'make_Subaru',\n",
       "       'make_Suzuki', 'make_Tesla', 'make_Toyota', 'make_Volkswagen',\n",
       "       'make_Volvo', 'make_Zhidou', 'make_smart', 'fuel_CNG',\n",
       "       'fuel_Diesel', 'fuel_Electric', 'fuel_Electric/Diesel',\n",
       "       'fuel_Electric/Gasoline', 'fuel_Ethanol', 'fuel_Gasoline',\n",
       "       'fuel_Hydrogen', 'fuel_LPG', 'fuel_Others', 'gear_Manual',\n",
       "       'gear_Semi-automatic', \"offerType_Employee's car\", 'offerType_New',\n",
       "       'offerType_Pre-registered', 'offerType_Used'], dtype=object)"
      ]
     },
     "execution_count": 32,
     "metadata": {},
     "output_type": "execute_result"
    }
   ],
   "source": [
    "data_with_dummies.columns.values"
   ]
  },
  {
   "cell_type": "code",
   "execution_count": 33,
   "metadata": {},
   "outputs": [
    {
     "data": {
      "text/html": [
       "<div>\n",
       "<style scoped>\n",
       "    .dataframe tbody tr th:only-of-type {\n",
       "        vertical-align: middle;\n",
       "    }\n",
       "\n",
       "    .dataframe tbody tr th {\n",
       "        vertical-align: top;\n",
       "    }\n",
       "\n",
       "    .dataframe thead th {\n",
       "        text-align: right;\n",
       "    }\n",
       "</style>\n",
       "<table border=\"1\" class=\"dataframe\">\n",
       "  <thead>\n",
       "    <tr style=\"text-align: right;\">\n",
       "      <th></th>\n",
       "      <th>log_price</th>\n",
       "      <th>mileage</th>\n",
       "      <th>hp</th>\n",
       "      <th>make_Abarth</th>\n",
       "      <th>make_Aixam</th>\n",
       "      <th>make_Alfa</th>\n",
       "      <th>make_Alpina</th>\n",
       "      <th>make_Alpine</th>\n",
       "      <th>make_Audi</th>\n",
       "      <th>make_BMW</th>\n",
       "      <th>...</th>\n",
       "      <th>fuel_Gasoline</th>\n",
       "      <th>fuel_Hydrogen</th>\n",
       "      <th>fuel_LPG</th>\n",
       "      <th>fuel_Others</th>\n",
       "      <th>gear_Manual</th>\n",
       "      <th>gear_Semi-automatic</th>\n",
       "      <th>offerType_Employee's car</th>\n",
       "      <th>offerType_New</th>\n",
       "      <th>offerType_Pre-registered</th>\n",
       "      <th>offerType_Used</th>\n",
       "    </tr>\n",
       "  </thead>\n",
       "  <tbody>\n",
       "    <tr>\n",
       "      <th>0</th>\n",
       "      <td>8.824678</td>\n",
       "      <td>235000</td>\n",
       "      <td>116.0</td>\n",
       "      <td>0</td>\n",
       "      <td>0</td>\n",
       "      <td>0</td>\n",
       "      <td>0</td>\n",
       "      <td>0</td>\n",
       "      <td>0</td>\n",
       "      <td>1</td>\n",
       "      <td>...</td>\n",
       "      <td>0</td>\n",
       "      <td>0</td>\n",
       "      <td>0</td>\n",
       "      <td>0</td>\n",
       "      <td>1</td>\n",
       "      <td>0</td>\n",
       "      <td>0</td>\n",
       "      <td>0</td>\n",
       "      <td>0</td>\n",
       "      <td>1</td>\n",
       "    </tr>\n",
       "    <tr>\n",
       "      <th>1</th>\n",
       "      <td>8.835938</td>\n",
       "      <td>92800</td>\n",
       "      <td>122.0</td>\n",
       "      <td>0</td>\n",
       "      <td>0</td>\n",
       "      <td>0</td>\n",
       "      <td>0</td>\n",
       "      <td>0</td>\n",
       "      <td>0</td>\n",
       "      <td>0</td>\n",
       "      <td>...</td>\n",
       "      <td>1</td>\n",
       "      <td>0</td>\n",
       "      <td>0</td>\n",
       "      <td>0</td>\n",
       "      <td>1</td>\n",
       "      <td>0</td>\n",
       "      <td>0</td>\n",
       "      <td>0</td>\n",
       "      <td>0</td>\n",
       "      <td>1</td>\n",
       "    </tr>\n",
       "    <tr>\n",
       "      <th>2</th>\n",
       "      <td>8.839277</td>\n",
       "      <td>149300</td>\n",
       "      <td>160.0</td>\n",
       "      <td>0</td>\n",
       "      <td>0</td>\n",
       "      <td>0</td>\n",
       "      <td>0</td>\n",
       "      <td>0</td>\n",
       "      <td>0</td>\n",
       "      <td>0</td>\n",
       "      <td>...</td>\n",
       "      <td>1</td>\n",
       "      <td>0</td>\n",
       "      <td>0</td>\n",
       "      <td>0</td>\n",
       "      <td>1</td>\n",
       "      <td>0</td>\n",
       "      <td>0</td>\n",
       "      <td>0</td>\n",
       "      <td>0</td>\n",
       "      <td>1</td>\n",
       "    </tr>\n",
       "    <tr>\n",
       "      <th>3</th>\n",
       "      <td>8.846497</td>\n",
       "      <td>96200</td>\n",
       "      <td>110.0</td>\n",
       "      <td>0</td>\n",
       "      <td>0</td>\n",
       "      <td>0</td>\n",
       "      <td>0</td>\n",
       "      <td>0</td>\n",
       "      <td>0</td>\n",
       "      <td>0</td>\n",
       "      <td>...</td>\n",
       "      <td>1</td>\n",
       "      <td>0</td>\n",
       "      <td>0</td>\n",
       "      <td>0</td>\n",
       "      <td>1</td>\n",
       "      <td>0</td>\n",
       "      <td>0</td>\n",
       "      <td>0</td>\n",
       "      <td>0</td>\n",
       "      <td>1</td>\n",
       "    </tr>\n",
       "    <tr>\n",
       "      <th>4</th>\n",
       "      <td>8.846497</td>\n",
       "      <td>156000</td>\n",
       "      <td>156.0</td>\n",
       "      <td>0</td>\n",
       "      <td>0</td>\n",
       "      <td>0</td>\n",
       "      <td>0</td>\n",
       "      <td>0</td>\n",
       "      <td>0</td>\n",
       "      <td>0</td>\n",
       "      <td>...</td>\n",
       "      <td>1</td>\n",
       "      <td>0</td>\n",
       "      <td>0</td>\n",
       "      <td>0</td>\n",
       "      <td>1</td>\n",
       "      <td>0</td>\n",
       "      <td>0</td>\n",
       "      <td>0</td>\n",
       "      <td>0</td>\n",
       "      <td>1</td>\n",
       "    </tr>\n",
       "  </tbody>\n",
       "</table>\n",
       "<p>5 rows × 80 columns</p>\n",
       "</div>"
      ],
      "text/plain": [
       "   log_price  mileage     hp  make_Abarth  make_Aixam  make_Alfa  make_Alpina  \\\n",
       "0   8.824678   235000  116.0            0           0          0            0   \n",
       "1   8.835938    92800  122.0            0           0          0            0   \n",
       "2   8.839277   149300  160.0            0           0          0            0   \n",
       "3   8.846497    96200  110.0            0           0          0            0   \n",
       "4   8.846497   156000  156.0            0           0          0            0   \n",
       "\n",
       "   make_Alpine  make_Audi  make_BMW  ...  fuel_Gasoline  fuel_Hydrogen  \\\n",
       "0            0          0         1  ...              0              0   \n",
       "1            0          0         0  ...              1              0   \n",
       "2            0          0         0  ...              1              0   \n",
       "3            0          0         0  ...              1              0   \n",
       "4            0          0         0  ...              1              0   \n",
       "\n",
       "   fuel_LPG  fuel_Others  gear_Manual  gear_Semi-automatic  \\\n",
       "0         0            0            1                    0   \n",
       "1         0            0            1                    0   \n",
       "2         0            0            1                    0   \n",
       "3         0            0            1                    0   \n",
       "4         0            0            1                    0   \n",
       "\n",
       "   offerType_Employee's car  offerType_New  offerType_Pre-registered  \\\n",
       "0                         0              0                         0   \n",
       "1                         0              0                         0   \n",
       "2                         0              0                         0   \n",
       "3                         0              0                         0   \n",
       "4                         0              0                         0   \n",
       "\n",
       "   offerType_Used  \n",
       "0               1  \n",
       "1               1  \n",
       "2               1  \n",
       "3               1  \n",
       "4               1  \n",
       "\n",
       "[5 rows x 80 columns]"
      ]
     },
     "execution_count": 33,
     "metadata": {},
     "output_type": "execute_result"
    }
   ],
   "source": [
    "data_preprocessed = data_with_dummies[cols]\n",
    "data_preprocessed.head()"
   ]
  },
  {
   "cell_type": "markdown",
   "metadata": {},
   "source": [
    "### Linear regression model"
   ]
  },
  {
   "cell_type": "code",
   "execution_count": 34,
   "metadata": {},
   "outputs": [],
   "source": [
    "targets = data_preprocessed['log_price']\n",
    "inputs = data_preprocessed.drop(['log_price'],axis=1)"
   ]
  },
  {
   "cell_type": "code",
   "execution_count": 35,
   "metadata": {},
   "outputs": [],
   "source": [
    "# It is not recomended to standardize dummy variables. \n",
    "# Scaling has no effect on the predicive power of dummies, once scaled they loose all the dummy meaning"
   ]
  },
  {
   "cell_type": "code",
   "execution_count": 36,
   "metadata": {},
   "outputs": [
    {
     "data": {
      "text/plain": [
       "StandardScaler()"
      ]
     },
     "execution_count": 36,
     "metadata": {},
     "output_type": "execute_result"
    }
   ],
   "source": [
    "# Importing the scaling module\n",
    "from sklearn.preprocessing import StandardScaler\n",
    "scaler = StandardScaler()\n",
    "# Fit the inputs (calculate the mean and standard deviation feature-wise)\n",
    "scaler.fit(inputs)"
   ]
  },
  {
   "cell_type": "code",
   "execution_count": 37,
   "metadata": {},
   "outputs": [],
   "source": [
    "inputs_scaled = scaler.transform(inputs)"
   ]
  },
  {
   "cell_type": "markdown",
   "metadata": {},
   "source": [
    "### Train Test Split"
   ]
  },
  {
   "cell_type": "code",
   "execution_count": 38,
   "metadata": {},
   "outputs": [],
   "source": [
    "from sklearn.model_selection import train_test_split\n",
    "x_train, x_test, y_train, y_test = train_test_split(inputs_scaled, targets, test_size=0.2, random_state=1)"
   ]
  },
  {
   "cell_type": "markdown",
   "metadata": {},
   "source": [
    "### Creating the regression"
   ]
  },
  {
   "cell_type": "code",
   "execution_count": 39,
   "metadata": {},
   "outputs": [
    {
     "data": {
      "text/plain": [
       "LinearRegression()"
      ]
     },
     "execution_count": 39,
     "metadata": {},
     "output_type": "execute_result"
    }
   ],
   "source": [
    "reg = LinearRegression()\n",
    "# Fitfing the regression with the scaled TRAIN inputs and targets\n",
    "reg.fit(x_train,y_train)"
   ]
  },
  {
   "cell_type": "code",
   "execution_count": 40,
   "metadata": {},
   "outputs": [],
   "source": [
    "# Checking the outputs of the regression\n",
    "y_hat = reg.predict(x_train)"
   ]
  },
  {
   "cell_type": "code",
   "execution_count": 61,
   "metadata": {},
   "outputs": [
    {
     "data": {
      "image/png": "[encoded data removed]",
      "text/plain": [
       "<Figure size 432x288 with 1 Axes>"
      ]
     },
     "metadata": {},
     "output_type": "display_data"
    }
   ],
   "source": [
    "plt.scatter(y_train, y_hat)\n",
    "plt.xlabel('Targets (y_train)',size=18)\n",
    "plt.ylabel('Predictions (y_hat)',size=18)\n",
    "\n",
    "plt.xlim(6,13)\n",
    "plt.ylim(6,13)\n",
    "plt.show()"
   ]
  },
  {
   "cell_type": "code",
   "execution_count": 42,
   "metadata": {},
   "outputs": [
    {
     "data": {
      "text/plain": [
       "Text(0.5, 1.0, 'Residuals PDF')"
      ]
     },
     "execution_count": 42,
     "metadata": {},
     "output_type": "execute_result"
    },
    {
     "data": {
      "image/png": "[encoded data removed]",
      "text/plain": [
       "<Figure size 360x360 with 1 Axes>"
      ]
     },
     "metadata": {},
     "output_type": "display_data"
    }
   ],
   "source": [
    "# Plotting the PDF of the residuals and check for anomalies\n",
    "sns.displot((y_train - y_hat),kde=True)\n",
    "plt.title(\"Residuals PDF\", size=18)"
   ]
  },
  {
   "cell_type": "code",
   "execution_count": 43,
   "metadata": {},
   "outputs": [
    {
     "data": {
      "text/plain": [
       "0.8569205410631396"
      ]
     },
     "execution_count": 43,
     "metadata": {},
     "output_type": "execute_result"
    }
   ],
   "source": [
    "reg.score(x_train,y_train)"
   ]
  },
  {
   "cell_type": "markdown",
   "metadata": {},
   "source": [
    "### Finding the weights and bias"
   ]
  },
  {
   "cell_type": "code",
   "execution_count": 44,
   "metadata": {},
   "outputs": [
    {
     "data": {
      "text/plain": [
       "9.394209861060558"
      ]
     },
     "execution_count": 44,
     "metadata": {},
     "output_type": "execute_result"
    }
   ],
   "source": [
    "reg.intercept_"
   ]
  },
  {
   "cell_type": "code",
   "execution_count": 45,
   "metadata": {},
   "outputs": [
    {
     "data": {
      "text/plain": [
       "array([-0.35074201,  0.3279945 , -0.00293897, -0.00137407, -0.00657467,\n",
       "       -0.00264221,  0.00316107,  0.02746014,  0.00442806,  0.00026048,\n",
       "       -0.00821433, -0.00022913,  0.00336169, -0.03777853, -0.0041519 ,\n",
       "       -0.03103882, -0.01170324, -0.0002381 ,  0.00118707, -0.02604566,\n",
       "       -0.00625649, -0.00733172,  0.00146531, -0.03545302, -0.02778337,\n",
       "       -0.00371122, -0.03488591, -0.00086224, -0.00051153, -0.00211143,\n",
       "       -0.00387607, -0.00244598, -0.02547082, -0.00641533, -0.00740869,\n",
       "        0.01023481, -0.00039983, -0.00104126,  0.00209181, -0.00102505,\n",
       "       -0.00332795,  0.03075808, -0.0057006 , -0.02337668,  0.00750116,\n",
       "       -0.01854685, -0.04359224, -0.00904723, -0.03445637,  0.00029203,\n",
       "        0.01176291, -0.0530912 , -0.01903513, -0.01209163, -0.00723788,\n",
       "       -0.00223899, -0.0231005 , -0.00229211, -0.02610534,  0.0249715 ,\n",
       "        0.01068648, -0.0008822 , -0.03968195,  0.00363998,  0.12783877,\n",
       "        0.01173649,  0.00581904,  0.02527466, -0.00287158,  0.00818504,\n",
       "        0.00356467,  0.0059761 ,  0.00468978, -0.07968784, -0.00815716,\n",
       "       -0.01414193,  0.00178937, -0.00539007, -0.09102146])"
      ]
     },
     "execution_count": 45,
     "metadata": {},
     "output_type": "execute_result"
    }
   ],
   "source": [
    "reg.coef_\n"
   ]
  },
  {
   "cell_type": "code",
   "execution_count": 46,
   "metadata": {},
   "outputs": [
    {
     "data": {
      "text/html": [
       "<div>\n",
       "<style scoped>\n",
       "    .dataframe tbody tr th:only-of-type {\n",
       "        vertical-align: middle;\n",
       "    }\n",
       "\n",
       "    .dataframe tbody tr th {\n",
       "        vertical-align: top;\n",
       "    }\n",
       "\n",
       "    .dataframe thead th {\n",
       "        text-align: right;\n",
       "    }\n",
       "</style>\n",
       "<table border=\"1\" class=\"dataframe\">\n",
       "  <thead>\n",
       "    <tr style=\"text-align: right;\">\n",
       "      <th></th>\n",
       "      <th>Features</th>\n",
       "      <th>Weights</th>\n",
       "    </tr>\n",
       "  </thead>\n",
       "  <tbody>\n",
       "    <tr>\n",
       "      <th>0</th>\n",
       "      <td>mileage</td>\n",
       "      <td>-0.350742</td>\n",
       "    </tr>\n",
       "    <tr>\n",
       "      <th>1</th>\n",
       "      <td>hp</td>\n",
       "      <td>0.327995</td>\n",
       "    </tr>\n",
       "    <tr>\n",
       "      <th>2</th>\n",
       "      <td>make_Abarth</td>\n",
       "      <td>-0.002939</td>\n",
       "    </tr>\n",
       "    <tr>\n",
       "      <th>3</th>\n",
       "      <td>make_Aixam</td>\n",
       "      <td>-0.001374</td>\n",
       "    </tr>\n",
       "    <tr>\n",
       "      <th>4</th>\n",
       "      <td>make_Alfa</td>\n",
       "      <td>-0.006575</td>\n",
       "    </tr>\n",
       "    <tr>\n",
       "      <th>...</th>\n",
       "      <td>...</td>\n",
       "      <td>...</td>\n",
       "    </tr>\n",
       "    <tr>\n",
       "      <th>74</th>\n",
       "      <td>gear_Semi-automatic</td>\n",
       "      <td>-0.008157</td>\n",
       "    </tr>\n",
       "    <tr>\n",
       "      <th>75</th>\n",
       "      <td>offerType_Employee's car</td>\n",
       "      <td>-0.014142</td>\n",
       "    </tr>\n",
       "    <tr>\n",
       "      <th>76</th>\n",
       "      <td>offerType_New</td>\n",
       "      <td>0.001789</td>\n",
       "    </tr>\n",
       "    <tr>\n",
       "      <th>77</th>\n",
       "      <td>offerType_Pre-registered</td>\n",
       "      <td>-0.005390</td>\n",
       "    </tr>\n",
       "    <tr>\n",
       "      <th>78</th>\n",
       "      <td>offerType_Used</td>\n",
       "      <td>-0.091021</td>\n",
       "    </tr>\n",
       "  </tbody>\n",
       "</table>\n",
       "<p>79 rows × 2 columns</p>\n",
       "</div>"
      ],
      "text/plain": [
       "                    Features   Weights\n",
       "0                    mileage -0.350742\n",
       "1                         hp  0.327995\n",
       "2                make_Abarth -0.002939\n",
       "3                 make_Aixam -0.001374\n",
       "4                  make_Alfa -0.006575\n",
       "..                       ...       ...\n",
       "74       gear_Semi-automatic -0.008157\n",
       "75  offerType_Employee's car -0.014142\n",
       "76             offerType_New  0.001789\n",
       "77  offerType_Pre-registered -0.005390\n",
       "78            offerType_Used -0.091021\n",
       "\n",
       "[79 rows x 2 columns]"
      ]
     },
     "execution_count": 46,
     "metadata": {},
     "output_type": "execute_result"
    }
   ],
   "source": [
    "reg_summary = pd.DataFrame(inputs.columns.values, columns=['Features'])\n",
    "reg_summary['Weights'] = reg.coef_\n",
    "reg_summary"
   ]
  },
  {
   "cell_type": "code",
   "execution_count": 47,
   "metadata": {},
   "outputs": [
    {
     "data": {
      "text/plain": [
       "array(['BMW', 'Volkswagen', 'SEAT', 'Renault', 'Peugeot', 'Toyota',\n",
       "       'Opel', 'Mazda', 'Ford', 'Chevrolet', 'Audi', 'Fiat', 'Kia',\n",
       "       'Dacia', 'MINI', 'Mercedes-Benz', 'Hyundai', 'Skoda', 'Citroen',\n",
       "       'Infiniti', 'Suzuki', 'SsangYong', 'smart', 'Cupra', 'Volvo',\n",
       "       'Jaguar', 'Porsche', 'Nissan', 'Honda', 'Mitsubishi', 'Others',\n",
       "       'Lexus', 'Jeep', 'Land', 'Alfa', 'Subaru', 'Microcar', 'Baic',\n",
       "       'Lada', 'Chrysler', '9ff', 'Lancia', 'Abarth', 'DS', 'Daihatsu',\n",
       "       'Maserati', 'Ligier', 'Caravans-Wohnm', 'Aixam', 'Alpine',\n",
       "       'Zhidou', 'Morgan', 'Tesla', 'Dodge', 'Brilliance', 'Piaggio',\n",
       "       'Alpina', 'Cadillac', 'Iveco', 'Isuzu', 'DFSK', 'Estrima'],\n",
       "      dtype=object)"
      ]
     },
     "execution_count": 47,
     "metadata": {},
     "output_type": "execute_result"
    }
   ],
   "source": [
    "data_cleaned['make'].unique()"
   ]
  },
  {
   "cell_type": "code",
   "execution_count": 48,
   "metadata": {},
   "outputs": [
    {
     "data": {
      "text/plain": [
       "array(['Manual', 'Automatic', 'Semi-automatic'], dtype=object)"
      ]
     },
     "execution_count": 48,
     "metadata": {},
     "output_type": "execute_result"
    }
   ],
   "source": [
    "data_cleaned['gear'].unique()"
   ]
  },
  {
   "cell_type": "code",
   "execution_count": 49,
   "metadata": {},
   "outputs": [
    {
     "data": {
      "text/plain": [
       "array(['Diesel', 'Gasoline', 'Electric/Gasoline', '-/- (Fuel)',\n",
       "       'Electric', 'Electric/Diesel', 'LPG', 'CNG', 'Others', 'Hydrogen',\n",
       "       'Ethanol'], dtype=object)"
      ]
     },
     "execution_count": 49,
     "metadata": {},
     "output_type": "execute_result"
    }
   ],
   "source": [
    "data_cleaned['fuel'].unique()"
   ]
  },
  {
   "cell_type": "markdown",
   "metadata": {},
   "source": [
    "### Testing"
   ]
  },
  {
   "cell_type": "code",
   "execution_count": 50,
   "metadata": {},
   "outputs": [],
   "source": [
    "y_hat_test = reg.predict(x_test)"
   ]
  },
  {
   "cell_type": "code",
   "execution_count": 51,
   "metadata": {},
   "outputs": [
    {
     "data": {
      "image/png": "[encoded data removed]",
      "text/plain": [
       "<Figure size 432x288 with 1 Axes>"
      ]
     },
     "metadata": {},
     "output_type": "display_data"
    }
   ],
   "source": [
    "plt.scatter(y_test, y_hat_test, alpha = 0.2)\n",
    "plt.xlabel('Targets (x_test)',size=18)\n",
    "plt.ylabel('Predictions (x_test)',size=18)\n",
    "plt.xlim(6,13)\n",
    "plt.ylim(6,13)\n",
    "plt.show()"
   ]
  },
  {
   "cell_type": "code",
   "execution_count": 52,
   "metadata": {},
   "outputs": [
    {
     "data": {
      "text/html": [
       "<div>\n",
       "<style scoped>\n",
       "    .dataframe tbody tr th:only-of-type {\n",
       "        vertical-align: middle;\n",
       "    }\n",
       "\n",
       "    .dataframe tbody tr th {\n",
       "        vertical-align: top;\n",
       "    }\n",
       "\n",
       "    .dataframe thead th {\n",
       "        text-align: right;\n",
       "    }\n",
       "</style>\n",
       "<table border=\"1\" class=\"dataframe\">\n",
       "  <thead>\n",
       "    <tr style=\"text-align: right;\">\n",
       "      <th></th>\n",
       "      <th>Prediction</th>\n",
       "    </tr>\n",
       "  </thead>\n",
       "  <tbody>\n",
       "    <tr>\n",
       "      <th>0</th>\n",
       "      <td>6125.705582</td>\n",
       "    </tr>\n",
       "    <tr>\n",
       "      <th>1</th>\n",
       "      <td>21638.059381</td>\n",
       "    </tr>\n",
       "    <tr>\n",
       "      <th>2</th>\n",
       "      <td>4573.338796</td>\n",
       "    </tr>\n",
       "    <tr>\n",
       "      <th>3</th>\n",
       "      <td>8238.602926</td>\n",
       "    </tr>\n",
       "    <tr>\n",
       "      <th>4</th>\n",
       "      <td>8942.447195</td>\n",
       "    </tr>\n",
       "  </tbody>\n",
       "</table>\n",
       "</div>"
      ],
      "text/plain": [
       "     Prediction\n",
       "0   6125.705582\n",
       "1  21638.059381\n",
       "2   4573.338796\n",
       "3   8238.602926\n",
       "4   8942.447195"
      ]
     },
     "execution_count": 52,
     "metadata": {},
     "output_type": "execute_result"
    }
   ],
   "source": [
    "# To obtain the actual prices, we take the exponential of the log_price\n",
    "df_pf = pd.DataFrame(np.exp(y_hat_test), columns=['Prediction'])\n",
    "df_pf.head()"
   ]
  },
  {
   "cell_type": "code",
   "execution_count": 53,
   "metadata": {},
   "outputs": [
    {
     "data": {
      "text/html": [
       "<div>\n",
       "<style scoped>\n",
       "    .dataframe tbody tr th:only-of-type {\n",
       "        vertical-align: middle;\n",
       "    }\n",
       "\n",
       "    .dataframe tbody tr th {\n",
       "        vertical-align: top;\n",
       "    }\n",
       "\n",
       "    .dataframe thead th {\n",
       "        text-align: right;\n",
       "    }\n",
       "</style>\n",
       "<table border=\"1\" class=\"dataframe\">\n",
       "  <thead>\n",
       "    <tr style=\"text-align: right;\">\n",
       "      <th></th>\n",
       "      <th>Prediction</th>\n",
       "      <th>Target</th>\n",
       "    </tr>\n",
       "  </thead>\n",
       "  <tbody>\n",
       "    <tr>\n",
       "      <th>0</th>\n",
       "      <td>6125.705582</td>\n",
       "      <td>NaN</td>\n",
       "    </tr>\n",
       "    <tr>\n",
       "      <th>1</th>\n",
       "      <td>21638.059381</td>\n",
       "      <td>NaN</td>\n",
       "    </tr>\n",
       "    <tr>\n",
       "      <th>2</th>\n",
       "      <td>4573.338796</td>\n",
       "      <td>NaN</td>\n",
       "    </tr>\n",
       "    <tr>\n",
       "      <th>3</th>\n",
       "      <td>8238.602926</td>\n",
       "      <td>6950.0</td>\n",
       "    </tr>\n",
       "    <tr>\n",
       "      <th>4</th>\n",
       "      <td>8942.447195</td>\n",
       "      <td>NaN</td>\n",
       "    </tr>\n",
       "    <tr>\n",
       "      <th>...</th>\n",
       "      <td>...</td>\n",
       "      <td>...</td>\n",
       "    </tr>\n",
       "    <tr>\n",
       "      <th>8959</th>\n",
       "      <td>5150.517540</td>\n",
       "      <td>NaN</td>\n",
       "    </tr>\n",
       "    <tr>\n",
       "      <th>8960</th>\n",
       "      <td>19290.428709</td>\n",
       "      <td>NaN</td>\n",
       "    </tr>\n",
       "    <tr>\n",
       "      <th>8961</th>\n",
       "      <td>21681.506318</td>\n",
       "      <td>11590.0</td>\n",
       "    </tr>\n",
       "    <tr>\n",
       "      <th>8962</th>\n",
       "      <td>8006.683167</td>\n",
       "      <td>NaN</td>\n",
       "    </tr>\n",
       "    <tr>\n",
       "      <th>8963</th>\n",
       "      <td>24498.220906</td>\n",
       "      <td>NaN</td>\n",
       "    </tr>\n",
       "  </tbody>\n",
       "</table>\n",
       "<p>8964 rows × 2 columns</p>\n",
       "</div>"
      ],
      "text/plain": [
       "        Prediction   Target\n",
       "0      6125.705582      NaN\n",
       "1     21638.059381      NaN\n",
       "2      4573.338796      NaN\n",
       "3      8238.602926   6950.0\n",
       "4      8942.447195      NaN\n",
       "...            ...      ...\n",
       "8959   5150.517540      NaN\n",
       "8960  19290.428709      NaN\n",
       "8961  21681.506318  11590.0\n",
       "8962   8006.683167      NaN\n",
       "8963  24498.220906      NaN\n",
       "\n",
       "[8964 rows x 2 columns]"
      ]
     },
     "execution_count": 53,
     "metadata": {},
     "output_type": "execute_result"
    }
   ],
   "source": [
    "df_pf['Target'] = np.exp(y_test)\n",
    "df_pf"
   ]
  },
  {
   "cell_type": "code",
   "execution_count": 54,
   "metadata": {},
   "outputs": [
    {
     "data": {
      "text/plain": [
       "5303      8.573574\n",
       "44415     9.850983\n",
       "35783     8.496990\n",
       "13213     9.303831\n",
       "36280     9.099409\n",
       "           ...    \n",
       "30113     8.213382\n",
       "27316    10.239924\n",
       "4003     10.180740\n",
       "39684     8.985946\n",
       "43609    10.083724\n",
       "Name: log_price, Length: 8964, dtype: float64"
      ]
     },
     "execution_count": 54,
     "metadata": {},
     "output_type": "execute_result"
    }
   ],
   "source": [
    "y_test"
   ]
  },
  {
   "cell_type": "code",
   "execution_count": 55,
   "metadata": {},
   "outputs": [
    {
     "data": {
      "text/plain": [
       "0    8.573574\n",
       "1    9.850983\n",
       "2    8.496990\n",
       "3    9.303831\n",
       "4    9.099409\n",
       "Name: log_price, dtype: float64"
      ]
     },
     "execution_count": 55,
     "metadata": {},
     "output_type": "execute_result"
    }
   ],
   "source": [
    "y_test = y_test.reset_index(drop=True)\n",
    "y_test.head()"
   ]
  },
  {
   "cell_type": "code",
   "execution_count": 56,
   "metadata": {},
   "outputs": [
    {
     "data": {
      "text/html": [
       "<div>\n",
       "<style scoped>\n",
       "    .dataframe tbody tr th:only-of-type {\n",
       "        vertical-align: middle;\n",
       "    }\n",
       "\n",
       "    .dataframe tbody tr th {\n",
       "        vertical-align: top;\n",
       "    }\n",
       "\n",
       "    .dataframe thead th {\n",
       "        text-align: right;\n",
       "    }\n",
       "</style>\n",
       "<table border=\"1\" class=\"dataframe\">\n",
       "  <thead>\n",
       "    <tr style=\"text-align: right;\">\n",
       "      <th></th>\n",
       "      <th>Prediction</th>\n",
       "      <th>Target</th>\n",
       "    </tr>\n",
       "  </thead>\n",
       "  <tbody>\n",
       "    <tr>\n",
       "      <th>0</th>\n",
       "      <td>6125.705582</td>\n",
       "      <td>5290.0</td>\n",
       "    </tr>\n",
       "    <tr>\n",
       "      <th>1</th>\n",
       "      <td>21638.059381</td>\n",
       "      <td>18977.0</td>\n",
       "    </tr>\n",
       "    <tr>\n",
       "      <th>2</th>\n",
       "      <td>4573.338796</td>\n",
       "      <td>4900.0</td>\n",
       "    </tr>\n",
       "    <tr>\n",
       "      <th>3</th>\n",
       "      <td>8238.602926</td>\n",
       "      <td>10980.0</td>\n",
       "    </tr>\n",
       "    <tr>\n",
       "      <th>4</th>\n",
       "      <td>8942.447195</td>\n",
       "      <td>8950.0</td>\n",
       "    </tr>\n",
       "    <tr>\n",
       "      <th>...</th>\n",
       "      <td>...</td>\n",
       "      <td>...</td>\n",
       "    </tr>\n",
       "    <tr>\n",
       "      <th>8959</th>\n",
       "      <td>5150.517540</td>\n",
       "      <td>3690.0</td>\n",
       "    </tr>\n",
       "    <tr>\n",
       "      <th>8960</th>\n",
       "      <td>19290.428709</td>\n",
       "      <td>27999.0</td>\n",
       "    </tr>\n",
       "    <tr>\n",
       "      <th>8961</th>\n",
       "      <td>21681.506318</td>\n",
       "      <td>26390.0</td>\n",
       "    </tr>\n",
       "    <tr>\n",
       "      <th>8962</th>\n",
       "      <td>8006.683167</td>\n",
       "      <td>7990.0</td>\n",
       "    </tr>\n",
       "    <tr>\n",
       "      <th>8963</th>\n",
       "      <td>24498.220906</td>\n",
       "      <td>23950.0</td>\n",
       "    </tr>\n",
       "  </tbody>\n",
       "</table>\n",
       "<p>8964 rows × 2 columns</p>\n",
       "</div>"
      ],
      "text/plain": [
       "        Prediction   Target\n",
       "0      6125.705582   5290.0\n",
       "1     21638.059381  18977.0\n",
       "2      4573.338796   4900.0\n",
       "3      8238.602926  10980.0\n",
       "4      8942.447195   8950.0\n",
       "...            ...      ...\n",
       "8959   5150.517540   3690.0\n",
       "8960  19290.428709  27999.0\n",
       "8961  21681.506318  26390.0\n",
       "8962   8006.683167   7990.0\n",
       "8963  24498.220906  23950.0\n",
       "\n",
       "[8964 rows x 2 columns]"
      ]
     },
     "execution_count": 56,
     "metadata": {},
     "output_type": "execute_result"
    }
   ],
   "source": [
    "df_pf['Target'] = np.exp(y_test)\n",
    "df_pf"
   ]
  },
  {
   "cell_type": "code",
   "execution_count": 57,
   "metadata": {},
   "outputs": [],
   "source": [
    "df_pf['Residual'] = df_pf['Target'] - df_pf['Prediction']"
   ]
  },
  {
   "cell_type": "code",
   "execution_count": 58,
   "metadata": {},
   "outputs": [
    {
     "data": {
      "text/html": [
       "<div>\n",
       "<style scoped>\n",
       "    .dataframe tbody tr th:only-of-type {\n",
       "        vertical-align: middle;\n",
       "    }\n",
       "\n",
       "    .dataframe tbody tr th {\n",
       "        vertical-align: top;\n",
       "    }\n",
       "\n",
       "    .dataframe thead th {\n",
       "        text-align: right;\n",
       "    }\n",
       "</style>\n",
       "<table border=\"1\" class=\"dataframe\">\n",
       "  <thead>\n",
       "    <tr style=\"text-align: right;\">\n",
       "      <th></th>\n",
       "      <th>Prediction</th>\n",
       "      <th>Target</th>\n",
       "      <th>Residual</th>\n",
       "      <th>Difference%</th>\n",
       "    </tr>\n",
       "  </thead>\n",
       "  <tbody>\n",
       "    <tr>\n",
       "      <th>0</th>\n",
       "      <td>6125.705582</td>\n",
       "      <td>5290.0</td>\n",
       "      <td>-835.705582</td>\n",
       "      <td>15.797837</td>\n",
       "    </tr>\n",
       "    <tr>\n",
       "      <th>1</th>\n",
       "      <td>21638.059381</td>\n",
       "      <td>18977.0</td>\n",
       "      <td>-2661.059381</td>\n",
       "      <td>14.022550</td>\n",
       "    </tr>\n",
       "    <tr>\n",
       "      <th>2</th>\n",
       "      <td>4573.338796</td>\n",
       "      <td>4900.0</td>\n",
       "      <td>326.661204</td>\n",
       "      <td>6.666555</td>\n",
       "    </tr>\n",
       "    <tr>\n",
       "      <th>3</th>\n",
       "      <td>8238.602926</td>\n",
       "      <td>10980.0</td>\n",
       "      <td>2741.397074</td>\n",
       "      <td>24.967186</td>\n",
       "    </tr>\n",
       "    <tr>\n",
       "      <th>4</th>\n",
       "      <td>8942.447195</td>\n",
       "      <td>8950.0</td>\n",
       "      <td>7.552805</td>\n",
       "      <td>0.084389</td>\n",
       "    </tr>\n",
       "    <tr>\n",
       "      <th>...</th>\n",
       "      <td>...</td>\n",
       "      <td>...</td>\n",
       "      <td>...</td>\n",
       "      <td>...</td>\n",
       "    </tr>\n",
       "    <tr>\n",
       "      <th>8959</th>\n",
       "      <td>5150.517540</td>\n",
       "      <td>3690.0</td>\n",
       "      <td>-1460.517540</td>\n",
       "      <td>39.580421</td>\n",
       "    </tr>\n",
       "    <tr>\n",
       "      <th>8960</th>\n",
       "      <td>19290.428709</td>\n",
       "      <td>27999.0</td>\n",
       "      <td>8708.571291</td>\n",
       "      <td>31.103151</td>\n",
       "    </tr>\n",
       "    <tr>\n",
       "      <th>8961</th>\n",
       "      <td>21681.506318</td>\n",
       "      <td>26390.0</td>\n",
       "      <td>4708.493682</td>\n",
       "      <td>17.841962</td>\n",
       "    </tr>\n",
       "    <tr>\n",
       "      <th>8962</th>\n",
       "      <td>8006.683167</td>\n",
       "      <td>7990.0</td>\n",
       "      <td>-16.683167</td>\n",
       "      <td>0.208801</td>\n",
       "    </tr>\n",
       "    <tr>\n",
       "      <th>8963</th>\n",
       "      <td>24498.220906</td>\n",
       "      <td>23950.0</td>\n",
       "      <td>-548.220906</td>\n",
       "      <td>2.289023</td>\n",
       "    </tr>\n",
       "  </tbody>\n",
       "</table>\n",
       "<p>8964 rows × 4 columns</p>\n",
       "</div>"
      ],
      "text/plain": [
       "        Prediction   Target     Residual  Difference%\n",
       "0      6125.705582   5290.0  -835.705582    15.797837\n",
       "1     21638.059381  18977.0 -2661.059381    14.022550\n",
       "2      4573.338796   4900.0   326.661204     6.666555\n",
       "3      8238.602926  10980.0  2741.397074    24.967186\n",
       "4      8942.447195   8950.0     7.552805     0.084389\n",
       "...            ...      ...          ...          ...\n",
       "8959   5150.517540   3690.0 -1460.517540    39.580421\n",
       "8960  19290.428709  27999.0  8708.571291    31.103151\n",
       "8961  21681.506318  26390.0  4708.493682    17.841962\n",
       "8962   8006.683167   7990.0   -16.683167     0.208801\n",
       "8963  24498.220906  23950.0  -548.220906     2.289023\n",
       "\n",
       "[8964 rows x 4 columns]"
      ]
     },
     "execution_count": 58,
     "metadata": {},
     "output_type": "execute_result"
    }
   ],
   "source": [
    "df_pf['Difference%'] = np.absolute(df_pf['Residual']/df_pf['Target']*100)\n",
    "df_pf"
   ]
  },
  {
   "cell_type": "code",
   "execution_count": 59,
   "metadata": {},
   "outputs": [
    {
     "data": {
      "text/html": [
       "<div>\n",
       "<style scoped>\n",
       "    .dataframe tbody tr th:only-of-type {\n",
       "        vertical-align: middle;\n",
       "    }\n",
       "\n",
       "    .dataframe tbody tr th {\n",
       "        vertical-align: top;\n",
       "    }\n",
       "\n",
       "    .dataframe thead th {\n",
       "        text-align: right;\n",
       "    }\n",
       "</style>\n",
       "<table border=\"1\" class=\"dataframe\">\n",
       "  <thead>\n",
       "    <tr style=\"text-align: right;\">\n",
       "      <th></th>\n",
       "      <th>Prediction</th>\n",
       "      <th>Target</th>\n",
       "      <th>Residual</th>\n",
       "      <th>Difference%</th>\n",
       "    </tr>\n",
       "  </thead>\n",
       "  <tbody>\n",
       "    <tr>\n",
       "      <th>count</th>\n",
       "      <td>8964.000000</td>\n",
       "      <td>8964.000000</td>\n",
       "      <td>8964.000000</td>\n",
       "      <td>8964.000000</td>\n",
       "    </tr>\n",
       "    <tr>\n",
       "      <th>mean</th>\n",
       "      <td>14711.018225</td>\n",
       "      <td>15008.377510</td>\n",
       "      <td>297.359285</td>\n",
       "      <td>19.592940</td>\n",
       "    </tr>\n",
       "    <tr>\n",
       "      <th>std</th>\n",
       "      <td>11757.047053</td>\n",
       "      <td>11394.611103</td>\n",
       "      <td>4891.695625</td>\n",
       "      <td>18.747538</td>\n",
       "    </tr>\n",
       "    <tr>\n",
       "      <th>min</th>\n",
       "      <td>2513.204123</td>\n",
       "      <td>1100.000000</td>\n",
       "      <td>-65902.413842</td>\n",
       "      <td>0.000324</td>\n",
       "    </tr>\n",
       "    <tr>\n",
       "      <th>25%</th>\n",
       "      <td>7746.702187</td>\n",
       "      <td>7490.000000</td>\n",
       "      <td>-1434.737620</td>\n",
       "      <td>7.150724</td>\n",
       "    </tr>\n",
       "    <tr>\n",
       "      <th>50%</th>\n",
       "      <td>10668.338547</td>\n",
       "      <td>10990.000000</td>\n",
       "      <td>75.298439</td>\n",
       "      <td>15.294710</td>\n",
       "    </tr>\n",
       "    <tr>\n",
       "      <th>75%</th>\n",
       "      <td>16805.691320</td>\n",
       "      <td>18858.750000</td>\n",
       "      <td>2009.634646</td>\n",
       "      <td>26.616026</td>\n",
       "    </tr>\n",
       "    <tr>\n",
       "      <th>max</th>\n",
       "      <td>131802.413842</td>\n",
       "      <td>83870.000000</td>\n",
       "      <td>51946.867836</td>\n",
       "      <td>281.851452</td>\n",
       "    </tr>\n",
       "  </tbody>\n",
       "</table>\n",
       "</div>"
      ],
      "text/plain": [
       "          Prediction        Target      Residual  Difference%\n",
       "count    8964.000000   8964.000000   8964.000000  8964.000000\n",
       "mean    14711.018225  15008.377510    297.359285    19.592940\n",
       "std     11757.047053  11394.611103   4891.695625    18.747538\n",
       "min      2513.204123   1100.000000 -65902.413842     0.000324\n",
       "25%      7746.702187   7490.000000  -1434.737620     7.150724\n",
       "50%     10668.338547  10990.000000     75.298439    15.294710\n",
       "75%     16805.691320  18858.750000   2009.634646    26.616026\n",
       "max    131802.413842  83870.000000  51946.867836   281.851452"
      ]
     },
     "execution_count": 59,
     "metadata": {},
     "output_type": "execute_result"
    }
   ],
   "source": [
    "df_pf.describe()"
   ]
  },
  {
   "cell_type": "code",
   "execution_count": 60,
   "metadata": {},
   "outputs": [
    {
     "data": {
      "text/html": [
       "<div>\n",
       "<style scoped>\n",
       "    .dataframe tbody tr th:only-of-type {\n",
       "        vertical-align: middle;\n",
       "    }\n",
       "\n",
       "    .dataframe tbody tr th {\n",
       "        vertical-align: top;\n",
       "    }\n",
       "\n",
       "    .dataframe thead th {\n",
       "        text-align: right;\n",
       "    }\n",
       "</style>\n",
       "<table border=\"1\" class=\"dataframe\">\n",
       "  <thead>\n",
       "    <tr style=\"text-align: right;\">\n",
       "      <th></th>\n",
       "      <th>Prediction</th>\n",
       "      <th>Target</th>\n",
       "      <th>Residual</th>\n",
       "      <th>Difference%</th>\n",
       "    </tr>\n",
       "  </thead>\n",
       "  <tbody>\n",
       "    <tr>\n",
       "      <th>3149</th>\n",
       "      <td>23900.08</td>\n",
       "      <td>23900.00</td>\n",
       "      <td>-0.08</td>\n",
       "      <td>0.00</td>\n",
       "    </tr>\n",
       "    <tr>\n",
       "      <th>8841</th>\n",
       "      <td>9789.75</td>\n",
       "      <td>9790.00</td>\n",
       "      <td>0.25</td>\n",
       "      <td>0.00</td>\n",
       "    </tr>\n",
       "    <tr>\n",
       "      <th>3021</th>\n",
       "      <td>6449.40</td>\n",
       "      <td>6450.00</td>\n",
       "      <td>0.60</td>\n",
       "      <td>0.01</td>\n",
       "    </tr>\n",
       "    <tr>\n",
       "      <th>2142</th>\n",
       "      <td>27437.16</td>\n",
       "      <td>27440.00</td>\n",
       "      <td>2.84</td>\n",
       "      <td>0.01</td>\n",
       "    </tr>\n",
       "    <tr>\n",
       "      <th>836</th>\n",
       "      <td>7390.86</td>\n",
       "      <td>7390.00</td>\n",
       "      <td>-0.86</td>\n",
       "      <td>0.01</td>\n",
       "    </tr>\n",
       "    <tr>\n",
       "      <th>...</th>\n",
       "      <td>...</td>\n",
       "      <td>...</td>\n",
       "      <td>...</td>\n",
       "      <td>...</td>\n",
       "    </tr>\n",
       "    <tr>\n",
       "      <th>8797</th>\n",
       "      <td>5625.09</td>\n",
       "      <td>1850.00</td>\n",
       "      <td>-3775.09</td>\n",
       "      <td>204.06</td>\n",
       "    </tr>\n",
       "    <tr>\n",
       "      <th>6349</th>\n",
       "      <td>5531.28</td>\n",
       "      <td>1650.00</td>\n",
       "      <td>-3881.28</td>\n",
       "      <td>235.23</td>\n",
       "    </tr>\n",
       "    <tr>\n",
       "      <th>5406</th>\n",
       "      <td>16848.79</td>\n",
       "      <td>4999.00</td>\n",
       "      <td>-11849.79</td>\n",
       "      <td>237.04</td>\n",
       "    </tr>\n",
       "    <tr>\n",
       "      <th>1042</th>\n",
       "      <td>6385.92</td>\n",
       "      <td>1800.00</td>\n",
       "      <td>-4585.92</td>\n",
       "      <td>254.77</td>\n",
       "    </tr>\n",
       "    <tr>\n",
       "      <th>608</th>\n",
       "      <td>6873.33</td>\n",
       "      <td>1800.00</td>\n",
       "      <td>-5073.33</td>\n",
       "      <td>281.85</td>\n",
       "    </tr>\n",
       "  </tbody>\n",
       "</table>\n",
       "<p>8964 rows × 4 columns</p>\n",
       "</div>"
      ],
      "text/plain": [
       "      Prediction   Target  Residual  Difference%\n",
       "3149    23900.08 23900.00     -0.08         0.00\n",
       "8841     9789.75  9790.00      0.25         0.00\n",
       "3021     6449.40  6450.00      0.60         0.01\n",
       "2142    27437.16 27440.00      2.84         0.01\n",
       "836      7390.86  7390.00     -0.86         0.01\n",
       "...          ...      ...       ...          ...\n",
       "8797     5625.09  1850.00  -3775.09       204.06\n",
       "6349     5531.28  1650.00  -3881.28       235.23\n",
       "5406    16848.79  4999.00 -11849.79       237.04\n",
       "1042     6385.92  1800.00  -4585.92       254.77\n",
       "608      6873.33  1800.00  -5073.33       281.85\n",
       "\n",
       "[8964 rows x 4 columns]"
      ]
     },
     "execution_count": 60,
     "metadata": {},
     "output_type": "execute_result"
    }
   ],
   "source": [
    "pd.options.display.max_rows = 999\n",
    "# Displaying the result with 2 digits after the dot \n",
    "pd.set_option('display.float_format', lambda x: '%.2f' % x)\n",
    "# Sorting by difference in %\n",
    "df_pf.sort_values(by=['Difference%'])"
   ]
  },
  {
   "cell_type": "code",
   "execution_count": null,
   "metadata": {},
   "outputs": [],
   "source": []
  }
 ],
 "metadata": {
  "kernelspec": {
   "display_name": "Python 3",
   "language": "python",
   "name": "python3"
  },
  "language_info": {
   "codemirror_mode": {
    "name": "ipython",
    "version": 3
   },
   "file_extension": ".py",
   "mimetype": "text/x-python",
   "name": "python",
   "nbconvert_exporter": "python",
   "pygments_lexer": "ipython3",
   "version": "3.8.5"
  }
 },
 "nbformat": 4,
 "nbformat_minor": 4
}
